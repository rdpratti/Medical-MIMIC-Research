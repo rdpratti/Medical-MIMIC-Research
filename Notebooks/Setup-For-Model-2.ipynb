{
 "cells": [
  {
   "cell_type": "markdown",
   "id": "7a3a8acb",
   "metadata": {},
   "source": [
    "<div class=\"alert alert-block alert-success\"><font color=\"black\"><h1><left>Setup Work For MIMIC Model Creation For Intestinal Model</left></h1></font><P>\n",
    "<font size=\"5\">- Balance Outcomes</font><P>\n",
    "<font size=\"5\">- Train/Test/Val Split</font></div>"
   ]
  },
  {
   "cell_type": "code",
   "execution_count": 1,
   "id": "b40095d7",
   "metadata": {},
   "outputs": [],
   "source": [
    "#Import libraries\n",
    "import pandas as pd\n",
    "import numpy as np\n",
    "import matplotlib.pyplot as plt\n",
    "import re"
   ]
  },
  {
   "cell_type": "code",
   "execution_count": 2,
   "id": "1095b7f2",
   "metadata": {},
   "outputs": [],
   "source": [
    "# Notebook Global Variables\n",
    "# This is replaced with class definitions in initial spreadsheet\n",
    "icd_category = ['Heart', 'Blood', 'Kidney', 'Lungs']\n",
    "#icd_category = ['Heart', 'Blood', 'Lungs']\n",
    "#icd_category = ['Heart']\n",
    "\n",
    "#icd_codes = ['A41.9', 'I21.4', 'I25.10', 'I34.0', 'I35.2', 'I50.9', 'J18.9', 'J69.0', 'J96.00', 'N17.9']\n",
    "icd_codes = ['A41.9', 'I21.4', 'J96.00', 'N17.9']\n",
    "#icd_codes = ['I21.4', 'I25.10', 'I35.2', 'I50.9']\n",
    "group_type = 'indiv'\n"
   ]
  },
  {
   "cell_type": "code",
   "execution_count": 3,
   "id": "17845bc5",
   "metadata": {},
   "outputs": [],
   "source": [
    "path = 'E:/Education/CCSU-Thesis-2024/Data/'\n",
    "file1 = path + 'full_pd_notes_cleanb.snappy3.parquet'\n",
    "file2 = path + 'discharge_notes_clean.snappy3.parquet'\n",
    "# file3 = path + 'base_adms.snappy.parquet'\n",
    "# file4 = path + 'pd_notes.snappy.parquet'"
   ]
  },
  {
   "cell_type": "code",
   "execution_count": 4,
   "id": "486a65ff",
   "metadata": {},
   "outputs": [
    {
     "name": "stdout",
     "output_type": "stream",
     "text": [
      "Admissions in pn notes:  5379 Unique admissions:  5379\n",
      "Admissions in discharge notes:  28449 Unique discharge admissions:  5359\n"
     ]
    }
   ],
   "source": [
    "# Read data and examine counts\n",
    "# Consistency between pn_notes and bas_adms shows I can eliminate base adm processing now that \n",
    "# segmentizing was removed from here and delegated to Hugging Face API\n",
    "pn_notes = pd.read_parquet(file1,engine='auto',dtype_backend='numpy_nullable')\n",
    "print('Admissions in pn notes: ', pn_notes.shape[0], 'Unique admissions: ', len(pn_notes['hadm_id'].unique()))\n",
    "# print(pn_notes[0:3])\n",
    "discharge_notes = pd.read_parquet(file2,engine='auto',dtype_backend='numpy_nullable')\n",
    "print('Admissions in discharge notes: ', discharge_notes.shape[0], 'Unique discharge admissions: ', len(discharge_notes['hadm_id'].unique()))\n",
    "# discharge_notes[0:3]\n",
    "#base_adms = pd.read_parquet(file3,engine='auto',use_nullable_dtypes=True)\n",
    "#print('Admissions in base notes: ', base_adms.shape[0], 'Unique base admissions: ', len(base_adms['hadm_id'].unique()))\n",
    "# base_adms[0:3]\n",
    "\n"
   ]
  },
  {
   "cell_type": "code",
   "execution_count": 5,
   "id": "d1b8d5d7",
   "metadata": {},
   "outputs": [
    {
     "data": {
      "text/plain": [
       "Index(['hadm_id', 'text', 'icd10_code', 'category'], dtype='object')"
      ]
     },
     "execution_count": 5,
     "metadata": {},
     "output_type": "execute_result"
    }
   ],
   "source": [
    "pn_notes.columns"
   ]
  },
  {
   "cell_type": "code",
   "execution_count": 6,
   "id": "b199ca59",
   "metadata": {},
   "outputs": [],
   "source": [
    "pn_notes.columns\n",
    "pn_notes.columns =  ['hadm_id', 'text', 'primary_icd10_code', 'icd_category']\n",
    "pn_notes['note_length'] = pn_notes['text'].apply(len)"
   ]
  },
  {
   "cell_type": "code",
   "execution_count": 7,
   "id": "4d42c3d6",
   "metadata": {},
   "outputs": [
    {
     "data": {
      "text/plain": [
       "primary_icd10_code\n",
       "A41.51     151\n",
       "A41.9      881\n",
       "I21.4      950\n",
       "I25.10    1216\n",
       "I34.0       74\n",
       "I35.2      155\n",
       "I50.23      92\n",
       "I50.9      301\n",
       "J18.9      324\n",
       "J69.0      348\n",
       "J96.00     625\n",
       "N17.9      262\n",
       "Name: hadm_id, dtype: int64"
      ]
     },
     "execution_count": 7,
     "metadata": {},
     "output_type": "execute_result"
    }
   ],
   "source": [
    "# count output diagnosis codes\n",
    "un_pn_notes = pn_notes[['primary_icd10_code','hadm_id']].drop_duplicates()\n",
    "pn_notes.groupby('primary_icd10_code')['hadm_id'].nunique()\n",
    "#temp_table = ['I21.4', 'I25.10', 'I35.2', 'I50.9']"
   ]
  },
  {
   "cell_type": "code",
   "execution_count": 8,
   "id": "659bc33d",
   "metadata": {},
   "outputs": [
    {
     "name": "stdout",
     "output_type": "stream",
     "text": [
      "['I21.4', 'J96.00', 'A41.9', 'N17.9']\n",
      "(950, 5)\n",
      "(625, 5)\n",
      "(881, 5)\n",
      "(881, 5)\n",
      "(2718, 5)\n",
      " \n",
      "\n"
     ]
    },
    {
     "data": {
      "text/plain": [
       "primary_icd10_code\n",
       "A41.9     881\n",
       "I21.4     950\n",
       "J96.00    625\n",
       "N17.9     262\n",
       "Name: hadm_id, dtype: int64"
      ]
     },
     "execution_count": 8,
     "metadata": {},
     "output_type": "execute_result"
    }
   ],
   "source": [
    "# This cell is added to performe special selection needs priuor to balancing\n",
    "# for example to set a classes range prior to balancing to produce similar distribution on note size\n",
    "\n",
    "\n",
    "\n",
    "if group_type == 'indiv':\n",
    "    \n",
    "    # This table is for testing diagnosis across body groups\n",
    "    temp_table = ['I21.4', 'J96.00', 'A41.9', 'N17.9']\n",
    "    # This table is for testing close heart diagnosis codes\n",
    "    #temp_table = ['I21.4', 'I25.10', 'I35.2', 'I50.9']\n",
    "    \n",
    "    print(temp_table)\n",
    "    pn_notes_cla = pn_notes[(pn_notes.primary_icd10_code == temp_table[0]) & (pn_notes.note_length < 1000000)]\n",
    "    print(pn_notes_cla.shape)\n",
    "    pn_notes_clb = pn_notes[(pn_notes.primary_icd10_code == temp_table[1]) & (pn_notes.note_length < 1000000)]\n",
    "    print(pn_notes_clb.shape)\n",
    "    pn_notes_clc = pn_notes[(pn_notes.primary_icd10_code == temp_table[2]) & (pn_notes.note_length < 1000000)]\n",
    "    print(pn_notes_clc.shape)\n",
    "    pn_notes_cld = pn_notes[(pn_notes.primary_icd10_code == temp_table[3]) & (pn_notes.note_length < 1000000)]\n",
    "    print(pn_notes_clc.shape)\n",
    "else:\n",
    "    temp_table = icd_category\n",
    "    pn_notes_cla = pn_notes[(pn_notes.icd_category == temp_table[0]) & (pn_notes.note_length < 100000)]\n",
    "    print(pn_notes_cla.shape)\n",
    "    pn_notes_clb = pn_notes[(pn_notes.icd_category == temp_table[1]) & (pn_notes.note_length < 100000)]\n",
    "    print(pn_notes_clb.shape)\n",
    "    pn_notes_clc = pn_notes[(pn_notes.icd_category == temp_table[2]) & (pn_notes.note_length < 100000)]\n",
    "    print(pn_notes_clc.shape)\n",
    "    \n",
    "\n",
    "\n",
    "class_train = pd.concat([pn_notes_cla, pn_notes_clb, pn_notes_clc, pn_notes_cld])\n",
    "print(class_train.shape)\n",
    "print(' ')\n",
    "print()\n",
    "class_train.groupby(['icd_category'])\\\n",
    "                 .agg(min=('note_length', 'min'), median=('note_length','median'),\\\n",
    "                  max=('note_length','max') , count=('hadm_id','count'))\n",
    "class_train.groupby('primary_icd10_code')['hadm_id'].nunique()"
   ]
  },
  {
   "cell_type": "code",
   "execution_count": 9,
   "id": "d3a5b52c",
   "metadata": {},
   "outputs": [
    {
     "name": "stdout",
     "output_type": "stream",
     "text": [
      "   primary_icd10_code icd_category  count(distinct hadm_id)\n",
      "0              A41.51        Blood                      151\n",
      "1               A41.9        Blood                      881\n",
      "2               I21.4        Heart                      950\n",
      "3              I25.10        Heart                     1216\n",
      "4               I34.0        Heart                       74\n",
      "5               I35.2        Heart                      155\n",
      "6              I50.23        Heart                       92\n",
      "7               I50.9        Heart                      301\n",
      "8               J18.9        Lungs                      324\n",
      "9               J69.0        Lungs                      348\n",
      "10             J96.00        Lungs                      625\n",
      "11              N17.9       Kidney                      262\n"
     ]
    }
   ],
   "source": [
    "import pandasql as ps\n",
    "\n",
    "qintsl = pn_notes[['hadm_id', 'primary_icd10_code', 'text', 'icd_category']]\n",
    "# print(qintsl.dtypes)\n",
    "q1 = \"\"\"SELECT primary_icd10_code, icd_category, count(distinct hadm_id) FROM qintsl group by primary_icd10_code, icd_category LIMIT 20\"\"\"\n",
    "\n",
    "p1 = ps.sqldf(q1, locals())\n",
    "print(p1)"
   ]
  },
  {
   "cell_type": "code",
   "execution_count": 10,
   "id": "b7609b10",
   "metadata": {},
   "outputs": [
    {
     "name": "stdout",
     "output_type": "stream",
     "text": [
      "    hadm_id icd_category  length(text) substring(text,0,20)\n",
      "0    145834        Blood         13425  micu progress nursi\n",
      "1    143045        Heart          7005  ccu npn s having cp\n",
      "2    109451        Heart          8373  admission note yr o\n",
      "3    129635        Heart          9749  ccu progress note t\n",
      "4    176176        Blood          4329  nsg adm note mr is \n",
      "5    188670        Heart          2279  nursing admission n\n",
      "6    181750        Heart          3841  resp care pt curren\n",
      "7    116630        Heart          7497  nursing a p see adm\n",
      "8    127870        Heart          2733  patient admitted s \n",
      "9    187373        Heart          3142  pt is a year old ma\n",
      "10   161160        Lungs          8316  nursing admission p\n",
      "11   123552        Heart           873  neuro eyes closed n\n",
      "12   192123        Lungs         18407  nursing progress no\n",
      "13   198214        Heart          3883  hx y o male present\n",
      "14   191817        Heart          6970  respiratory care pt\n",
      "15   151029        Heart          5651  ccu npn s o i pray \n",
      "16   107880        Blood          9098  resp care patient b\n",
      "17   143120        Heart          1350  pt c high o require\n",
      "18   161310        Lungs         14364  respiratory care yo\n",
      "19   191517        Blood          2227  adm from er this mo\n"
     ]
    }
   ],
   "source": [
    "import pandasql as ps\n",
    "\n",
    "qintsl = pn_notes[['hadm_id', 'text', 'icd_category']]\n",
    "# print(qintsl.dtypes)\n",
    "q1 = \"\"\"SELECT hadm_id, icd_category, length(text), substring(text,0,20) FROM qintsl LIMIT 20\"\"\"\n",
    "\n",
    "p1 = ps.sqldf(q1, locals())\n",
    "print(p1)"
   ]
  },
  {
   "cell_type": "code",
   "execution_count": 11,
   "id": "2ad90216",
   "metadata": {},
   "outputs": [
    {
     "name": "stdout",
     "output_type": "stream",
     "text": [
      "950 950\n",
      "primary_icd10_code\n",
      "I21.4    950\n",
      "Name: hadm_id, dtype: int64\n",
      "primary_icd10_code\n",
      "J96.00    625\n",
      "Name: hadm_id, dtype: int64\n",
      "primary_icd10_code\n",
      "A41.9    881\n",
      "Name: hadm_id, dtype: int64\n"
     ]
    },
    {
     "data": {
      "text/plain": [
       "primary_icd10_code\n",
       "N17.9    262\n",
       "Name: hadm_id, dtype: int64"
      ]
     },
     "execution_count": 11,
     "metadata": {},
     "output_type": "execute_result"
    }
   ],
   "source": [
    "#sample = random.sample(my_set, 2) \n",
    "class_a_id = set(pn_notes_cla.hadm_id)\n",
    "print(len(pn_notes_cla.hadm_id), len(class_a_id))\n",
    "print(pn_notes_cla.groupby('primary_icd10_code')['hadm_id'].nunique())\n",
    "print(pn_notes_clb.groupby('primary_icd10_code')['hadm_id'].nunique())\n",
    "print(pn_notes_clc.groupby('primary_icd10_code')['hadm_id'].nunique())\n",
    "pn_notes_cld.groupby('primary_icd10_code')['hadm_id'].nunique()"
   ]
  },
  {
   "cell_type": "code",
   "execution_count": 12,
   "id": "6590deb0",
   "metadata": {},
   "outputs": [
    {
     "name": "stdout",
     "output_type": "stream",
     "text": [
      "type1: <class 'pandas.core.series.Series'> type2: <class 'pandas.core.arrays.integer.IntegerArray'>\n"
     ]
    }
   ],
   "source": [
    "# Opposed to other authors I did splitting first\n",
    "\n",
    "\n",
    "#class_a_uniq1 = pn_notes_cla.hadm_id.unique()\n",
    "#class_a_uniq2 = pn_notes_cla.hadm_id\n",
    "#class_a_id = np.random.choice(class_a_uniq, ) \n",
    "np.random.seed(100)\n",
    "print('type1:', type(pn_notes_cla.hadm_id), 'type2:', type(pn_notes_cla.hadm_id.unique()))\n",
    "class_a_id = pd.Series(pn_notes_cla.hadm_id.unique()).sample(n = 260, random_state=100)\n",
    "class_b_id = pd.Series(pn_notes_clb.hadm_id.unique()).sample(n = 260, random_state=100)\n",
    "class_c_id = pd.Series(pn_notes_clc.hadm_id.unique()).sample(n = 260, random_state=100)\n",
    "class_d_id = pd.Series(pn_notes_cld.hadm_id.unique()).sample(n = 260, random_state=100)\n",
    "#class_a_id = np.random.sample(pn_notes_cla.hadm_id.unique(), size = 150, replace=True)\n",
    "#class_b_id = np.random.sample(pn_notes_clb.hadm_id.unique(), size = 150, replace=True)\n",
    "#class_c_id = np.random.sample(pn_notes_clc.hadm_id.unique(), size = 150, replace=True)\n",
    "#class_d_id = np.random.sample(pn_notes_cld.hadm_id.unique(), size = 150, replace=True)\n",
    "\n",
    "\n",
    "class_a_test = class_a_id.sample(frac=0.05, random_state=100)\n",
    "class_b_test = class_b_id.sample(frac=0.05, random_state=100)\n",
    "class_c_test = class_c_id.sample(frac=0.05, random_state=100)\n",
    "class_d_test = class_d_id.sample(frac=0.05, random_state=100)\n",
    "\n",
    "# train\n",
    "#class_a_train = class_a_id.drop(class_a_test.index)\n",
    "class_a_train = class_a_id[~class_a_id.isin(class_a_test)]\n",
    "#class_b_train = class_b_id.drop(class_b_test.index)\n",
    "class_b_train = class_b_id[~class_b_id.isin(class_b_test)]\n",
    "#class_c_train = class_c_id.drop(class_c_test.index)\n",
    "class_c_train = class_c_id[~class_c_id.isin(class_c_test)]\n",
    "#class_d_train = class_d_id.drop(class_d_test.index)\n",
    "class_d_train = class_d_id[~class_d_id.isin(class_d_test)]\n",
    "\n",
    "\n",
    "# split test and val\n",
    "class_a_val1 = class_a_test.sample(frac=0.5, random_state=100)\n",
    "class_a_test = class_a_test[~class_a_test.isin(class_a_val1)]\n",
    "#class_a_test = class_a_test.drop(class_a_val.index)\n",
    "class_b_val1 = class_b_test.sample(frac=0.5, random_state=100)\n",
    "#class_b_test = class_b_test.drop(class_b_val.index)\n",
    "class_b_test = class_b_test[~class_b_test.isin(class_b_val1)]\n",
    "class_c_val1 = class_c_test.sample(frac=0.5, random_state=100)\n",
    "class_c_test = class_c_test[~class_c_test.isin(class_c_val1)]\n",
    "#class_c_test = class_c_test.drop(class_c_val.index)\n",
    "class_d_val1 = class_d_test.sample(frac=0.5, random_state=100)\n",
    "class_d_test = class_d_test[~class_d_test.isin(class_d_val1)]\n",
    "#class_d_test = class_d_test.drop(class_d_val.index)\n",
    "\n",
    "# split val1 and val2\n",
    "class_a_val2 = class_a_val1.sample(frac=0.5, random_state=100)\n",
    "class_a_val1 = class_a_val1[~class_a_val1.isin(class_a_val2)]\n",
    "class_b_val2 = class_b_val1.sample(frac=0.5, random_state=100)\n",
    "class_b_val1 = class_b_val1[~class_b_val1.isin(class_b_val2)]\n",
    "class_c_val2 = class_c_val1.sample(frac=0.5, random_state=100)\n",
    "class_c_val1 = class_c_val1[~class_c_val1.isin(class_c_val2)]\n",
    "class_d_val2 = class_d_val1.sample(frac=0.5, random_state=100)\n",
    "class_d_val1 = class_d_val1[~class_d_val1.isin(class_d_val2)]\n",
    "\n",
    "\n",
    "#check_dup_adms(class_a_id, class_b_id, class_d_id)"
   ]
  },
  {
   "cell_type": "code",
   "execution_count": 13,
   "id": "c4ccbcd8",
   "metadata": {},
   "outputs": [
    {
     "name": "stdout",
     "output_type": "stream",
     "text": [
      "total_val 6 dup val1 adms 0 total_test 7 dup test adms 0 dup val1 train compare 0 dup val2 train compare 0\n",
      "dup_val1_test [] []\n",
      "dup_val1_val2 []\n",
      "dup_train_val1 []\n",
      "dup_train_val2 []\n"
     ]
    }
   ],
   "source": [
    "def check_dup_adms(test_adms, val1_adms, val2_adms, train_adms):\n",
    "\n",
    "    #val_adms_list = list(zip(val_adms, val_index_val))\n",
    "    dup_val1_test = [tup for tup in set(val1_adms) if tup in set(train_adms)]\n",
    "    dup_val1_val2 = [tup for tup in set(val1_adms) if tup in set(val2_adms)]\n",
    "    dup_test_adms = [tup for tup in set(test_adms) if tup in set(train_adms)]\n",
    "    dup_train_val1 = [tup for tup in set(val1_adms) if tup in set(dup_test_adms)]\n",
    "    dup_train_val2 = [tup for tup in set(val2_adms) if tup in set(dup_test_adms)]\n",
    "    print('total_val', len(val1_adms) + len(val1_adms), 'dup val1 adms', len(dup_val1_test), 'total_test', len(test_adms), \n",
    "          'dup test adms', len(dup_test_adms), 'dup val1 train compare', len(dup_train_val1), 'dup val2 train compare', len(dup_train_val2))\n",
    "    print('dup_val1_test', dup_val1_test, dup_val1_val2)\n",
    "    print('dup_val1_val2', dup_val1_val2)\n",
    "    print('dup_train_val1', dup_train_val1)\n",
    "    print('dup_train_val2', dup_train_val2)\n",
    "    return\n",
    "\n",
    "#train_adms = pd.concat([class_a_train, class_b_train,class_c_train,class_d_train])\n",
    "#val_adms = pd.concat([class_a_val, class_b_val,class_c_val,class_d_val])\n",
    "#test_adms = pd.concat([class_a_test, class_b_test, class_c_test, class_d_test])\n",
    "#test  _adms = test_data.id.tolist()\n",
    "#val_adms = val_data.id.tolist()\n",
    "check_dup_adms(class_c_test, class_c_val1, class_c_val2, class_c_train)"
   ]
  },
  {
   "cell_type": "code",
   "execution_count": 14,
   "id": "b4605626",
   "metadata": {
    "scrolled": true
   },
   "outputs": [
    {
     "name": "stdout",
     "output_type": "stream",
     "text": [
      "(247,)\n",
      "(7,)\n",
      "(3,)\n",
      "(3,)\n",
      "(247,)\n",
      "(7,)\n",
      "(3,)\n",
      "(3,)\n",
      "(247,)\n",
      "(7,)\n",
      "(3,)\n",
      "(3,)\n",
      "(247,)\n",
      "(7,)\n",
      "(3,)\n",
      "(3,)\n"
     ]
    }
   ],
   "source": [
    "print(class_a_train.shape)\n",
    "print(class_a_test.shape)\n",
    "print(class_a_val1.shape)\n",
    "print(class_a_val2.shape)\n",
    "print(class_b_train.shape)\n",
    "print(class_b_test.shape)\n",
    "print(class_b_val1.shape)\n",
    "print(class_b_val2.shape)\n",
    "print(class_c_train.shape)\n",
    "print(class_c_test.shape)\n",
    "print(class_c_val1.shape)\n",
    "print(class_c_val2.shape)\n",
    "print(class_d_train.shape)\n",
    "print(class_d_test.shape)\n",
    "print(class_d_val1.shape)\n",
    "print(class_d_val2.shape)"
   ]
  },
  {
   "cell_type": "code",
   "execution_count": 15,
   "id": "f91f6e7f",
   "metadata": {},
   "outputs": [
    {
     "name": "stdout",
     "output_type": "stream",
     "text": [
      "train size:  988\n",
      "test size:  28\n",
      "val1 size:  12\n",
      "val2 size:  12\n",
      "143    150575\n",
      "799    171762\n",
      "116    125337\n",
      "134    145764\n",
      "602    113553\n",
      "dtype: Int64\n",
      "97     104891\n",
      "607    139893\n",
      "384    188934\n",
      "830    180937\n",
      "301    142545\n",
      "dtype: Int64\n",
      "143    150575\n",
      "799    171762\n",
      "116    125337\n",
      "134    145764\n",
      "602    113553\n",
      "dtype: Int64\n"
     ]
    },
    {
     "data": {
      "text/plain": [
       "<IntegerArray>\n",
       "[]\n",
       "Length: 0, dtype: Int64"
      ]
     },
     "execution_count": 15,
     "metadata": {},
     "output_type": "execute_result"
    }
   ],
   "source": [
    "# concatenate and test size and look for any overlap between test and train\n",
    "train_df_list = [class_a_train, class_b_train,class_c_train, class_d_train]\n",
    "id_train_df = pd.concat(train_df_list)\n",
    "\n",
    "test_df_list = [class_a_test, class_b_test, class_c_test, class_d_test]\n",
    "id_test_df = pd.concat(test_df_list)\n",
    "\n",
    "val1_df_list = [class_a_val1, class_b_val1,class_c_val1, class_d_val1]\n",
    "id_val1_df = pd.concat(val1_df_list)\n",
    "\n",
    "val2_df_list = [class_a_val2, class_b_val2,class_c_val2, class_d_val2]\n",
    "id_val2_df = pd.concat(val2_df_list)\n",
    "\n",
    "print('train size: ', id_train_df.shape[0])\n",
    "print('test size: ', id_test_df.shape[0])\n",
    "print('val1 size: ', id_val1_df.shape[0])\n",
    "print('val2 size: ', id_val2_df.shape[0])\n",
    "print(id_train_df[0:5])\n",
    "print(id_test_df[0:5])\n",
    "print(id_train_df[0:5])\n",
    " \n",
    "# check between train and test\n",
    "(pd.Index(id_test_df).intersection(pd.Index(id_train_df))).values"
   ]
  },
  {
   "cell_type": "code",
   "execution_count": 16,
   "id": "7aaee85a",
   "metadata": {},
   "outputs": [
    {
     "name": "stdout",
     "output_type": "stream",
     "text": [
      "Index(['hadm_id', 'text', 'primary_icd10_code', 'icd_category', 'note_length'], dtype='object')\n",
      "(12,)\n"
     ]
    },
    {
     "data": {
      "text/plain": [
       "(988,)"
      ]
     },
     "execution_count": 16,
     "metadata": {},
     "output_type": "execute_result"
    }
   ],
   "source": [
    "print(pn_notes.columns)\n",
    "print(id_val2_df.shape)\n",
    "id_train_df.shape"
   ]
  },
  {
   "cell_type": "code",
   "execution_count": 17,
   "id": "f61f2f9d",
   "metadata": {
    "scrolled": false
   },
   "outputs": [
    {
     "name": "stdout",
     "output_type": "stream",
     "text": [
      "   hadm_id                                               text  \\\n",
      "0   145834  micu progress nursing note patient arrived in ...   \n",
      "1   143045  ccu npn s having cpain left l shoulder arm bac...   \n",
      "2   109451  admission note yr old man with h o cad cva dm ...   \n",
      "3   129635  ccu progress note this is a yr old male pt who...   \n",
      "4   176176  nsg adm note mr is a yo man adm to the micu on...   \n",
      "\n",
      "  primary_icd10_code icd_category  note_length  \n",
      "0              A41.9        Blood        13425  \n",
      "1             I25.10        Heart         7005  \n",
      "2              I21.4        Heart         8373  \n",
      "3              I21.4        Heart         9749  \n",
      "4              A41.9        Blood         4329  \n",
      "143    150575\n",
      "799    171762\n",
      "116    125337\n",
      "134    145764\n",
      "602    113553\n",
      "dtype: Int64\n",
      "462    138769\n",
      "200    168185\n",
      "397    197466\n",
      "75     195852\n",
      "259    152638\n",
      "dtype: Int64\n",
      "513    126391\n",
      "580    133123\n",
      "178    179498\n",
      "353    168309\n",
      "278    117402\n",
      "dtype: Int64\n",
      "148    103195\n",
      "96     178630\n",
      "191    117916\n",
      "177    197050\n",
      "238    188349\n",
      "dtype: Int64\n",
      "     hadm_id\n",
      "143   150575\n",
      "799   171762\n",
      "116   125337\n",
      "134   145764\n",
      "602   113553\n",
      "   hadm_id                                               text  \\\n",
      "0   150575  micu b rn note pt received from osh via ambula...   \n",
      "1   171762  on full code allergy nkda access two piv on dr...   \n",
      "2   125337  csru admission pt is a year old gentleman who ...   \n",
      "3   145764  nursing admission note s p cabg x pt arrived f...   \n",
      "4   113553  ccu nsg note r i mi s p stent pre op cabg o fo...   \n",
      "\n",
      "  primary_icd10_code icd_category  note_length  \n",
      "0              I21.4        Heart         3213  \n",
      "1              I21.4        Heart         7203  \n",
      "2              I21.4        Heart         5466  \n",
      "3              I21.4        Heart          728  \n",
      "4              I21.4        Heart        13765  \n",
      "train Index(['hadm_id', 'text', 'primary_icd10_code', 'icd_category', 'note_length',\n",
      "       'label'],\n",
      "      dtype='object')\n",
      "test Index(['hadm_id', 'text', 'primary_icd10_code', 'icd_category', 'note_length',\n",
      "       'label'],\n",
      "      dtype='object')\n",
      "val Index(['hadm_id', 'text', 'primary_icd10_code', 'icd_category', 'note_length',\n",
      "       'label'],\n",
      "      dtype='object')\n",
      "val2 Index(['hadm_id', 'text', 'primary_icd10_code', 'icd_category', 'note_length',\n",
      "       'label'],\n",
      "      dtype='object')\n"
     ]
    }
   ],
   "source": [
    "def create_label(code):\n",
    "    \n",
    "    #print('code:', code)\n",
    "    temp_val = 0\n",
    "    #icd_codes = ['I21.4', 'I25.10', 'I35.2', 'I50.9']\n",
    "    icd_codes = ['A41.9', 'I21.4', 'J96.00', 'N17.9']\n",
    "    \n",
    "    if group_type == 'indiv':\n",
    "        item_table = icd_codes\n",
    "    else:\n",
    "        item_table = icd_category\n",
    "      \n",
    "    if code in item_table[0]:\n",
    "        temp_val = 0\n",
    "    elif code in item_table[1]:\n",
    "        temp_val = 1\n",
    "    elif code in item_table[2]:\n",
    "        temp_val = 2\n",
    "    elif code in item_table[3]:\n",
    "        temp_val = 3\n",
    "    else:\n",
    "        temp_val = 99\n",
    "        \n",
    "    \n",
    "    return(temp_val)\n",
    "\n",
    "\n",
    "id_train_df = pd.DataFrame(id_train_df,columns=['hadm_id'])\n",
    "intsl_train = pd.merge(id_train_df, pn_notes, left_on=['hadm_id'], right_on=['hadm_id'], how='left')\n",
    "#intsl_train = intsl_train.rename(columns={'hadm_id_x': 'hadm_id'})\n",
    "#intsl_train = intsl_train.drop('hadm_id_y', axis = 1)\n",
    "print(pn_notes[0:5])\n",
    "print(class_a_train[0:5])\n",
    "print(class_b_train[0:5])\n",
    "print(class_c_train[0:5])\n",
    "print(class_d_train[0:5])\n",
    "print(id_train_df[0:5])\n",
    "print(intsl_train[0:5])\n",
    "\n",
    "if group_type == 'indiv':\n",
    "    intsl_train['label'] = intsl_train['primary_icd10_code'].map(create_label).astype('category')\n",
    "else:\n",
    "    intsl_train['label'] = intsl_train['icd_category'].map(create_label).astype('category')\n",
    "intsl_train['hadm_id'] = intsl_train['hadm_id'].astype('Int64')\n",
    "intsl_train['text'] = intsl_train['text'].astype('string')\n",
    "print('train', intsl_train.columns)\n",
    "\n",
    "id_test_df = pd.DataFrame(id_test_df,columns=['hadm_id'])\n",
    "intsl_test = pd.merge(id_test_df, pn_notes, left_on=['hadm_id'], right_on=['hadm_id'], how='left')\n",
    "# intsl_test = intsl_test.rename(columns={'hadm_id_x': 'hadm_id'})\n",
    "# intsl_test = intsl_test.drop('hadm_id_y', axis = 1)\n",
    "if group_type == 'indiv':\n",
    "    intsl_test['label'] = intsl_test['primary_icd10_code'].map(create_label).astype('category')\n",
    "else:\n",
    "    intsl_test['label'] = intsl_test['icd_category'].map(create_label).astype('category')\n",
    "intsl_test['hadm_id'] = intsl_test['hadm_id'].astype('Int64')\n",
    "intsl_test['text'] = intsl_test['text'].astype('string')\n",
    "\n",
    "print('test', intsl_test.columns)\n",
    "\n",
    "#val1 file setup\n",
    "id_val1_df = pd.DataFrame(id_val1_df,columns=['hadm_id'])\n",
    "intsl_val1 = pd.merge(id_val1_df, pn_notes, left_on=['hadm_id'], right_on=['hadm_id'], how='left')\n",
    "if group_type == 'indiv':\n",
    "    intsl_val1['label'] = intsl_val1['primary_icd10_code'].map(create_label).astype('category')\n",
    "else:\n",
    "    intsl_val1['label'] = intsl_val1['icd_category'].map(create_label).astype('category')\n",
    "intsl_val1['hadm_id'] = intsl_val1['hadm_id'].astype('Int64')\n",
    "intsl_val1['text'] = intsl_val1['text'].astype('string')\n",
    "intsl_val1['label'] = intsl_val1['label'].astype('category')\n",
    "print('val', intsl_val1.columns)\n",
    "\n",
    "#val1 file setup\n",
    "id_val2_df = pd.DataFrame(id_val2_df,columns=['hadm_id'])\n",
    "intsl_val2 = pd.merge(id_val2_df, pn_notes, left_on=['hadm_id'], right_on=['hadm_id'], how='left')\n",
    "if group_type == 'indiv':\n",
    "    intsl_val2['label'] = intsl_val2['primary_icd10_code'].map(create_label).astype('category')\n",
    "else:\n",
    "    intsl_val2['label'] = intsl_val2['icd_category'].map(create_label).astype('category')\n",
    "intsl_val2['hadm_id'] = intsl_val2['hadm_id'].astype('Int64')\n",
    "intsl_val2['text'] = intsl_val2['text'].astype('string')\n",
    "intsl_val2['label'] = intsl_val2['label'].astype('category')\n",
    "print('val2', intsl_val2.columns)\n",
    "\n",
    "# early_test.to_csv('./data/3days/test.csv')"
   ]
  },
  {
   "cell_type": "code",
   "execution_count": 18,
   "id": "49a9461a",
   "metadata": {
    "scrolled": true
   },
   "outputs": [
    {
     "name": "stderr",
     "output_type": "stream",
     "text": [
      "C:\\Users\\rolan\\AppData\\Local\\Temp\\ipykernel_17308\\560443524.py:4: FutureWarning: The default of observed=False is deprecated and will be changed to True in a future version of pandas. Pass observed=False to retain current behavior or observed=True to adopt the future default and silence this warning.\n",
      "  intsl_test.groupby(['icd_category', 'label'])['hadm_id'].count()\n"
     ]
    },
    {
     "data": {
      "text/plain": [
       "icd_category  label\n",
       "Blood         0        7\n",
       "              1        0\n",
       "              2        0\n",
       "              3        0\n",
       "Heart         0        0\n",
       "              1        7\n",
       "              2        0\n",
       "              3        0\n",
       "Kidney        0        0\n",
       "              1        0\n",
       "              2        0\n",
       "              3        7\n",
       "Lungs         0        0\n",
       "              1        0\n",
       "              2        7\n",
       "              3        0\n",
       "Name: hadm_id, dtype: Int64"
      ]
     },
     "execution_count": 18,
     "metadata": {},
     "output_type": "execute_result"
    }
   ],
   "source": [
    "# if roland == 7\n",
    "#   print(7)\n",
    "# intsl_train.columns\n",
    "intsl_test.groupby(['icd_category', 'label'])['hadm_id'].count()"
   ]
  },
  {
   "cell_type": "code",
   "execution_count": 19,
   "id": "01196b1e",
   "metadata": {
    "scrolled": false
   },
   "outputs": [
    {
     "name": "stderr",
     "output_type": "stream",
     "text": [
      "C:\\Users\\rolan\\AppData\\Local\\Temp\\ipykernel_17308\\4005516061.py:2: FutureWarning: The default of observed=False is deprecated and will be changed to True in a future version of pandas. Pass observed=False to retain current behavior or observed=True to adopt the future default and silence this warning.\n",
      "  intsl_train.groupby(['primary_icd10_code','label'])['hadm_id'].nunique()\n"
     ]
    },
    {
     "data": {
      "text/plain": [
       "primary_icd10_code  label\n",
       "A41.9               0        247\n",
       "                    1          0\n",
       "                    2          0\n",
       "                    3          0\n",
       "I21.4               0          0\n",
       "                    1        247\n",
       "                    2          0\n",
       "                    3          0\n",
       "J96.00              0          0\n",
       "                    1          0\n",
       "                    2        247\n",
       "                    3          0\n",
       "N17.9               0          0\n",
       "                    1          0\n",
       "                    2          0\n",
       "                    3        247\n",
       "Name: hadm_id, dtype: int64"
      ]
     },
     "execution_count": 19,
     "metadata": {},
     "output_type": "execute_result"
    }
   ],
   "source": [
    "pd.set_option('display.max_rows', 500)\n",
    "intsl_train.groupby(['primary_icd10_code','label'])['hadm_id'].nunique()"
   ]
  },
  {
   "cell_type": "code",
   "execution_count": 20,
   "id": "0db660ea",
   "metadata": {},
   "outputs": [
    {
     "name": "stdout",
     "output_type": "stream",
     "text": [
      "       id                                               text icd10_code label\n",
      "1  171762  on full code allergy nkda access two piv on dr...      I21.4     1\n",
      "2  125337  csru admission pt is a year old gentleman who ...      I21.4     1\n",
      "3  145764  nursing admission note s p cabg x pt arrived f...      I21.4     1\n",
      "4  113553  ccu nsg note r i mi s p stent pre op cabg o fo...      I21.4     1\n",
      "       id                                               text icd10_code label\n",
      "1  139893  chief complaint hypoxia hour events admitted s...      I21.4     1\n",
      "2  188934  yr old woman sent to er from facility for ligh...      I21.4     1\n",
      "3  180937  chief complaint pea arrest hpi this is a y o f...      I21.4     1\n",
      "4  142545  pt reintubated with cm immediately after extub...      I21.4     1\n",
      "       id                                               text icd10_code label\n",
      "1  172645  y o admitted in transfer from with severe mult...      I21.4     1\n",
      "2  124300  nursing progress note p a s am i going to stay...      I21.4     1\n",
      "3  103154  acidosis respiratory assessment action respons...     J96.00     2\n",
      "4  107614  micu npn neuro alert and following commands no...     J96.00     2\n",
      "       id                                               text icd10_code label\n",
      "1  179743  focus status update data pt alert and oriented...      I21.4     1\n",
      "2  181048  s p cabg x off pump uneventful arrived csru on...      I21.4     1\n",
      "3  152694  pmh v cabg severe mr severe tr pulmonary htn h...     J96.00     2\n",
      "4  170526  y o male with severe chronic obstructive pulmo...     J96.00     2\n"
     ]
    }
   ],
   "source": [
    "intsl_train = intsl_train[['hadm_id', 'text', 'primary_icd10_code', 'label']]\\\n",
    "                     .rename(columns={'hadm_id':'id', 'primary_icd10_code':'icd10_code'})\n",
    "intsl_test = intsl_test[['hadm_id', 'text', 'primary_icd10_code', 'label']]\\\n",
    "                     .rename(columns={'hadm_id':'id', 'primary_icd10_code':'icd10_code'})\n",
    "intsl_val1 = intsl_val1[['hadm_id', 'text', 'primary_icd10_code', 'label']]\\\n",
    "                     .rename(columns={'hadm_id':'id', 'primary_icd10_code':'icd10_code'})\n",
    "intsl_val2 = intsl_val2[['hadm_id', 'text', 'primary_icd10_code', 'label']]\\\n",
    "                     .rename(columns={'hadm_id':'id', 'primary_icd10_code':'icd10_code'})\n",
    "\n",
    "print(intsl_train[1:5])\n",
    "print(intsl_test[1:5])\n",
    "print(intsl_val1[1:5])\n",
    "print(intsl_val2[1:5])"
   ]
  },
  {
   "cell_type": "code",
   "execution_count": 21,
   "id": "9e898ece",
   "metadata": {},
   "outputs": [
    {
     "data": {
      "text/plain": [
       "id    28\n",
       "dtype: int64"
      ]
     },
     "execution_count": 21,
     "metadata": {},
     "output_type": "execute_result"
    }
   ],
   "source": [
    "intsl_test[['id']].nunique()"
   ]
  },
  {
   "cell_type": "code",
   "execution_count": 22,
   "id": "b7192904",
   "metadata": {
    "scrolled": false
   },
   "outputs": [
    {
     "name": "stdout",
     "output_type": "stream",
     "text": [
      "label\n",
      "0    247\n",
      "1    247\n",
      "2    247\n",
      "3    247\n",
      "Name: id, dtype: int64\n",
      "label\n",
      "0    7\n",
      "1    7\n",
      "2    7\n",
      "3    7\n",
      "Name: id, dtype: int64\n",
      "label\n",
      "0    3\n",
      "1    3\n",
      "2    3\n",
      "3    3\n",
      "Name: id, dtype: int64\n",
      "label\n",
      "0    3\n",
      "1    3\n",
      "2    3\n",
      "3    3\n",
      "Name: id, dtype: int64\n"
     ]
    },
    {
     "name": "stderr",
     "output_type": "stream",
     "text": [
      "C:\\Users\\rolan\\AppData\\Local\\Temp\\ipykernel_17308\\1686773649.py:1: FutureWarning: The default of observed=False is deprecated and will be changed to True in a future version of pandas. Pass observed=False to retain current behavior or observed=True to adopt the future default and silence this warning.\n",
      "  print(intsl_train.groupby('label')['id'].nunique())\n",
      "C:\\Users\\rolan\\AppData\\Local\\Temp\\ipykernel_17308\\1686773649.py:2: FutureWarning: The default of observed=False is deprecated and will be changed to True in a future version of pandas. Pass observed=False to retain current behavior or observed=True to adopt the future default and silence this warning.\n",
      "  print(intsl_test.groupby('label')['id'].nunique())\n",
      "C:\\Users\\rolan\\AppData\\Local\\Temp\\ipykernel_17308\\1686773649.py:3: FutureWarning: The default of observed=False is deprecated and will be changed to True in a future version of pandas. Pass observed=False to retain current behavior or observed=True to adopt the future default and silence this warning.\n",
      "  print(intsl_val1.groupby('label')['id'].nunique())\n",
      "C:\\Users\\rolan\\AppData\\Local\\Temp\\ipykernel_17308\\1686773649.py:4: FutureWarning: The default of observed=False is deprecated and will be changed to True in a future version of pandas. Pass observed=False to retain current behavior or observed=True to adopt the future default and silence this warning.\n",
      "  print(intsl_val2.groupby('label')['id'].nunique())\n"
     ]
    }
   ],
   "source": [
    "print(intsl_train.groupby('label')['id'].nunique())\n",
    "print(intsl_test.groupby('label')['id'].nunique())\n",
    "print(intsl_val1.groupby('label')['id'].nunique())\n",
    "print(intsl_val2.groupby('label')['id'].nunique())"
   ]
  },
  {
   "cell_type": "code",
   "execution_count": 23,
   "id": "12892389",
   "metadata": {
    "scrolled": true
   },
   "outputs": [
    {
     "name": "stdout",
     "output_type": "stream",
     "text": [
      "id                     Int64\n",
      "text          string[python]\n",
      "icd10_code    string[python]\n",
      "label               category\n",
      "dtype: object\n"
     ]
    },
    {
     "data": {
      "text/html": [
       "<div>\n",
       "<style scoped>\n",
       "    .dataframe tbody tr th:only-of-type {\n",
       "        vertical-align: middle;\n",
       "    }\n",
       "\n",
       "    .dataframe tbody tr th {\n",
       "        vertical-align: top;\n",
       "    }\n",
       "\n",
       "    .dataframe thead th {\n",
       "        text-align: right;\n",
       "    }\n",
       "</style>\n",
       "<table border=\"1\" class=\"dataframe\">\n",
       "  <thead>\n",
       "    <tr style=\"text-align: right;\">\n",
       "      <th></th>\n",
       "      <th>id</th>\n",
       "      <th>text</th>\n",
       "      <th>icd10_code</th>\n",
       "      <th>label</th>\n",
       "    </tr>\n",
       "  </thead>\n",
       "  <tbody>\n",
       "    <tr>\n",
       "      <th>1</th>\n",
       "      <td>171762</td>\n",
       "      <td>on full code allergy nkda access two piv on dr...</td>\n",
       "      <td>I21.4</td>\n",
       "      <td>1</td>\n",
       "    </tr>\n",
       "    <tr>\n",
       "      <th>2</th>\n",
       "      <td>125337</td>\n",
       "      <td>csru admission pt is a year old gentleman who ...</td>\n",
       "      <td>I21.4</td>\n",
       "      <td>1</td>\n",
       "    </tr>\n",
       "    <tr>\n",
       "      <th>3</th>\n",
       "      <td>145764</td>\n",
       "      <td>nursing admission note s p cabg x pt arrived f...</td>\n",
       "      <td>I21.4</td>\n",
       "      <td>1</td>\n",
       "    </tr>\n",
       "    <tr>\n",
       "      <th>4</th>\n",
       "      <td>113553</td>\n",
       "      <td>ccu nsg note r i mi s p stent pre op cabg o fo...</td>\n",
       "      <td>I21.4</td>\n",
       "      <td>1</td>\n",
       "    </tr>\n",
       "  </tbody>\n",
       "</table>\n",
       "</div>"
      ],
      "text/plain": [
       "       id                                               text icd10_code label\n",
       "1  171762  on full code allergy nkda access two piv on dr...      I21.4     1\n",
       "2  125337  csru admission pt is a year old gentleman who ...      I21.4     1\n",
       "3  145764  nursing admission note s p cabg x pt arrived f...      I21.4     1\n",
       "4  113553  ccu nsg note r i mi s p stent pre op cabg o fo...      I21.4     1"
      ]
     },
     "execution_count": 23,
     "metadata": {},
     "output_type": "execute_result"
    }
   ],
   "source": [
    "print(intsl_train.dtypes)\n",
    "intsl_train[1:5]"
   ]
  },
  {
   "cell_type": "code",
   "execution_count": 24,
   "id": "e47462fc",
   "metadata": {
    "scrolled": false
   },
   "outputs": [
    {
     "data": {
      "image/png": "[encoded data removed]",
      "text/plain": [
       "<Figure size 640x480 with 1 Axes>"
      ]
     },
     "metadata": {},
     "output_type": "display_data"
    },
    {
     "data": {
      "image/png": "[encoded data removed]",
      "text/plain": [
       "<Figure size 640x480 with 1 Axes>"
      ]
     },
     "metadata": {},
     "output_type": "display_data"
    }
   ],
   "source": [
    "new_df = intsl_train.copy()\n",
    "new_df['Words_per_Note'] = new_df[\"text\"].str.split().apply(len)\n",
    "new_df['note_length'] = new_df[\"text\"].apply(len)\n",
    "# print(intsl_train.columns)\n",
    "new_df.boxplot('Words_per_Note', by='label', grid=False, showfliers=False, color='black')\n",
    "plt.suptitle('')\n",
    "plt.xlabel(\"\")\n",
    "plt.show()\n",
    "new_df.boxplot('note_length', by='label', grid=False, showfliers=False, color='black')\n",
    "plt.suptitle('')\n",
    "plt.xlabel(\"\")\n",
    "plt.show()\n",
    "\n"
   ]
  },
  {
   "cell_type": "code",
   "execution_count": 25,
   "id": "ff594bb2",
   "metadata": {},
   "outputs": [
    {
     "data": {
      "text/plain": [
       "'  This is extra as an example of pansql\\n\\nimport pandasql as ps\\n\\n#qintsl = intsl_notes[[\\'subject_id\\', \\'hadm_id\\']]\\n# print(qintsl.dtypes)\\na1 = \"SELECT avg(text_length) FROM \\\\ \\n        (select len(text) as text_len from id_train_df) as a \"\\n        \\n\\nl1 = ps.sqldf(a1, locals())\\nprint(l1) '"
      ]
     },
     "execution_count": 25,
     "metadata": {},
     "output_type": "execute_result"
    }
   ],
   "source": [
    "\"\"\"  This is extra as an example of pansql\n",
    "\n",
    "import pandasql as ps\n",
    "\n",
    "#qintsl = intsl_notes[['subject_id', 'hadm_id']]\n",
    "# print(qintsl.dtypes)\n",
    "a1 = \"SELECT avg(text_length) FROM \\ \n",
    "        (select len(text) as text_len from id_train_df) as a \"\n",
    "        \n",
    "\n",
    "l1 = ps.sqldf(a1, locals())\n",
    "print(l1) \"\"\""
   ]
  },
  {
   "cell_type": "code",
   "execution_count": 26,
   "id": "68bc36be",
   "metadata": {
    "scrolled": false
   },
   "outputs": [
    {
     "name": "stderr",
     "output_type": "stream",
     "text": [
      "C:\\Users\\rolan\\AppData\\Local\\Temp\\ipykernel_17308\\3653879331.py:1: FutureWarning: The default of observed=False is deprecated and will be changed to True in a future version of pandas. Pass observed=False to retain current behavior or observed=True to adopt the future default and silence this warning.\n",
      "  intsl_train[['id','text', 'icd10_code','label']].groupby(['label'])['id'].nunique()\n"
     ]
    },
    {
     "data": {
      "text/plain": [
       "label\n",
       "0    247\n",
       "1    247\n",
       "2    247\n",
       "3    247\n",
       "Name: id, dtype: int64"
      ]
     },
     "execution_count": 26,
     "metadata": {},
     "output_type": "execute_result"
    }
   ],
   "source": [
    "intsl_train[['id','text', 'icd10_code','label']].groupby(['label'])['id'].nunique()\n"
   ]
  },
  {
   "cell_type": "markdown",
   "id": "0ad6336e",
   "metadata": {
    "scrolled": false
   },
   "source": [
    "<div class=\"alert alert-block alert-success\"><font color=\"black\"><h1><left>Write File with Admission Details and Attached Combined Notes</left></h1></font></div>"
   ]
  },
  {
   "cell_type": "code",
   "execution_count": 27,
   "id": "7c16fb3a",
   "metadata": {},
   "outputs": [],
   "source": [
    "path = 'E:/Education/CCSU-Thesis-2024/Data/'\n",
    "fname = 'intsl_train_group_full_no2d.snappy.parquet'\n",
    "f2name = 'intsl_test_group_full_no2d.snappy.parquet'\n",
    "f3name = 'intsl_val1_group_full_no2d.snappy.parquet'\n",
    "f4name = 'intsl_val2_group_full_no2d.snappy.parquet'\n",
    "\n",
    "intsl_train.to_parquet(path + fname,compression='snappy',index=None)  \n",
    "intsl_test.to_parquet(path + f2name,compression='snappy',index=None)  \n",
    "intsl_val1.to_parquet(path + f3name,compression='snappy',index=None)\n",
    "intsl_val2.to_parquet(path + f4name,compression='snappy',index=None)\n"
   ]
  },
  {
   "cell_type": "code",
   "execution_count": 228,
   "id": "5b8adbc3",
   "metadata": {},
   "outputs": [],
   "source": [
    "import boto3, os\n",
    "s3 = boto3.resource('s3')\n",
    "S3_path = 'Data/' + fname\n",
    "S3_path2 = 'Data/' + f2name\n",
    "S3_path3 = 'Data/' + f3name\n",
    "out_file = path + fname\n",
    "out_file2 = path + f2name\n",
    "out_file3 = path + f3name"
   ]
  },
  {
   "cell_type": "code",
   "execution_count": 188,
   "id": "558efe4b",
   "metadata": {
    "scrolled": true
   },
   "outputs": [],
   "source": [
    "#s3.meta.client.upload_file(out_file, 'depratti-masters-thesis', S3_path)\n",
    "#s3.meta.client.upload_file(out_file2, 'depratti-masters-thesis', S3_path2)\n",
    "#s3.meta.client.upload_file(out_file3, 'depratti-masters-thesis', S3_path3)"
   ]
  },
  {
   "cell_type": "code",
   "execution_count": 28,
   "id": "287b5176",
   "metadata": {},
   "outputs": [
    {
     "name": "stdout",
     "output_type": "stream",
     "text": [
      "(988, 4)\n",
      "(28, 4)\n",
      "(12, 4)\n",
      "(12, 4)\n",
      "Index(['id', 'text', 'icd10_code', 'label'], dtype='object')\n"
     ]
    }
   ],
   "source": [
    "print(intsl_train.shape)\n",
    "print(intsl_test.shape)\n",
    "print(intsl_val1.shape)\n",
    "print(intsl_val2.shape)\n",
    "print(intsl_val2.columns)"
   ]
  },
  {
   "cell_type": "code",
   "execution_count": 29,
   "id": "44ee9c90",
   "metadata": {},
   "outputs": [
    {
     "name": "stderr",
     "output_type": "stream",
     "text": [
      "C:\\Users\\rolan\\AppData\\Local\\Temp\\ipykernel_17308\\3889118595.py:1: FutureWarning: The default of observed=False is deprecated and will be changed to True in a future version of pandas. Pass observed=False to retain current behavior or observed=True to adopt the future default and silence this warning.\n",
      "  intsl_test.groupby(['icd10_code', 'label'])['id'].nunique()\n"
     ]
    },
    {
     "data": {
      "text/plain": [
       "icd10_code  label\n",
       "A41.9       0        7\n",
       "            1        0\n",
       "            2        0\n",
       "            3        0\n",
       "I21.4       0        0\n",
       "            1        7\n",
       "            2        0\n",
       "            3        0\n",
       "J96.00      0        0\n",
       "            1        0\n",
       "            2        7\n",
       "            3        0\n",
       "N17.9       0        0\n",
       "            1        0\n",
       "            2        0\n",
       "            3        7\n",
       "Name: id, dtype: int64"
      ]
     },
     "execution_count": 29,
     "metadata": {},
     "output_type": "execute_result"
    }
   ],
   "source": [
    "intsl_test.groupby(['icd10_code', 'label'])['id'].nunique()"
   ]
  },
  {
   "cell_type": "code",
   "execution_count": null,
   "id": "e748e07b",
   "metadata": {},
   "outputs": [],
   "source": []
  },
  {
   "cell_type": "code",
   "execution_count": null,
   "id": "d927ca36",
   "metadata": {},
   "outputs": [],
   "source": []
  }
 ],
 "metadata": {
  "kernelspec": {
   "display_name": "Python [conda env:research]",
   "language": "python",
   "name": "conda-env-research-py"
  },
  "language_info": {
   "codemirror_mode": {
    "name": "ipython",
    "version": 3
   },
   "file_extension": ".py",
   "mimetype": "text/x-python",
   "name": "python",
   "nbconvert_exporter": "python",
   "pygments_lexer": "ipython3",
   "version": "3.9.19"
  }
 },
 "nbformat": 4,
 "nbformat_minor": 5
}
