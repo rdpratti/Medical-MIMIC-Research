{
 "cells": [
  {
   "cell_type": "markdown",
   "id": "7a3a8acb",
   "metadata": {},
   "source": [
    "<div class=\"alert alert-block alert-success\"><font color=\"black\"><h1><left>Setup Work For MIMIC Model Creation For Intestinal Model</left></h1></font><P>\n",
    "<font size=\"5\">- Balance Outcomes</font><P>\n",
    "<font size=\"5\">- Train/Test/Val Split</font></div>"
   ]
  },
  {
   "cell_type": "code",
   "execution_count": 1,
   "id": "b40095d7",
   "metadata": {},
   "outputs": [],
   "source": [
    "#Import libraries\n",
    "import pandas as pd\n",
    "import numpy as np\n",
    "import matplotlib.pyplot as plt\n",
    "import re"
   ]
  },
  {
   "cell_type": "code",
   "execution_count": 2,
   "id": "1095b7f2",
   "metadata": {},
   "outputs": [],
   "source": [
    "# Notebook Global Variables\n",
    "icd10_class_def = [['I27.89'], ['K21.9']]"
   ]
  },
  {
   "cell_type": "code",
   "execution_count": 3,
   "id": "17845bc5",
   "metadata": {},
   "outputs": [],
   "source": [
    "path = 'E:\\Education\\DataScience\\CCSU-Data-Science\\Data-Mining-And-Predictive-Analytics\\Data-532\\Data\\\\'\n",
    "file1 = path + 'pd_notes_clean.snappy.parquet'\n",
    "file2 = path + 'discharge_notes_clean.snappy.parquet'\n",
    "file3 = path + 'base_adms.snappy.parquet'\n",
    "file4 = path + 'pd_notes.snappy.parquet'"
   ]
  },
  {
   "cell_type": "code",
   "execution_count": 4,
   "id": "486a65ff",
   "metadata": {},
   "outputs": [
    {
     "name": "stdout",
     "output_type": "stream",
     "text": [
      "Admissions in pn notes:  2694 Unique admissions:  2694\n",
      "Admissions in discharge notes:  6889 Unique discharge admissions:  6274\n",
      "Admissions in base notes:  2694 Unique base admissions:  2694\n"
     ]
    }
   ],
   "source": [
    "# Read data and examine counts\n",
    "# Consistency between pn_notes and bas_adms shows I can eliminate base adm processing now that \n",
    "# segmentizing was removed from here and delegated to Hugging Face API\n",
    "pn_notes = pd.read_parquet(file1,engine='auto',use_nullable_dtypes=True)\n",
    "print('Admissions in pn notes: ', pn_notes.shape[0], 'Unique admissions: ', len(pn_notes['hadm_id'].unique()))\n",
    "# print(pn_notes[0:3])\n",
    "discharge_notes = pd.read_parquet(file2,engine='auto',use_nullable_dtypes=True)\n",
    "print('Admissions in discharge notes: ', discharge_notes.shape[0], 'Unique discharge admissions: ', len(discharge_notes['hadm_id'].unique()))\n",
    "# discharge_notes[0:3]\n",
    "base_adms = pd.read_parquet(file3,engine='auto',use_nullable_dtypes=True)\n",
    "print('Admissions in base notes: ', base_adms.shape[0], 'Unique base admissions: ', len(base_adms['hadm_id'].unique()))\n",
    "# base_adms[0:3]\n",
    "\n"
   ]
  },
  {
   "cell_type": "code",
   "execution_count": 5,
   "id": "b199ca59",
   "metadata": {},
   "outputs": [
    {
     "data": {
      "text/plain": [
       "Index(['subject_id', 'hadm_id', 'icd9_codes', 'primary_icd9_code',\n",
       "       'primary_icd10_code', 'stay_hours', 'admittime', 'dischtime',\n",
       "       'deathtime', 'admission_type', 'insurance', 'language', 'religion',\n",
       "       'marital_status', 'ethnicity', 'diagnosis', 'ethnic_group', 'text',\n",
       "       'note_length'],\n",
       "      dtype='object')"
      ]
     },
     "execution_count": 5,
     "metadata": {},
     "output_type": "execute_result"
    }
   ],
   "source": [
    "pn_notes.columns"
   ]
  },
  {
   "cell_type": "code",
   "execution_count": 6,
   "id": "4d42c3d6",
   "metadata": {},
   "outputs": [
    {
     "data": {
      "text/plain": [
       "primary_icd10_code\n",
       "I27.89     669\n",
       "K21.9     1209\n",
       "K25.0       23\n",
       "K25.4       65\n",
       "K29.90      62\n",
       "K29.91      41\n",
       "K51.00       6\n",
       "K51.90      58\n",
       "K52.9       54\n",
       "K56.60      71\n",
       "K56.69      42\n",
       "K58.9       33\n",
       "K92.2      361\n",
       "Name: hadm_id, dtype: int64"
      ]
     },
     "execution_count": 6,
     "metadata": {},
     "output_type": "execute_result"
    }
   ],
   "source": [
    "# count output diagnosis codes\n",
    "pn_notes.groupby('primary_icd10_code')['hadm_id'].count()"
   ]
  },
  {
   "cell_type": "code",
   "execution_count": 7,
   "id": "b7609b10",
   "metadata": {},
   "outputs": [
    {
     "name": "stdout",
     "output_type": "stream",
     "text": [
      "(669,)\n",
      "(1209,)\n",
      "(361,)\n",
      "(65,)\n"
     ]
    }
   ],
   "source": [
    "class_a = pn_notes[pn_notes.primary_icd10_code.isin(icd10_class_def[0])].hadm_id\n",
    "class_b = pn_notes[pn_notes.primary_icd10_code.isin(icd10_class_def[1])].hadm_id\n",
    "class_c = pn_notes[pn_notes.primary_icd10_code =='K92.2'].hadm_id\n",
    "class_d = pn_notes[pn_notes.primary_icd10_code =='K25.4'].hadm_id\n",
    "print(class_a.shape)\n",
    "print(class_b.shape)\n",
    "print(class_c.shape)\n",
    "print(class_d.shape)\n"
   ]
  },
  {
   "cell_type": "code",
   "execution_count": 8,
   "id": "f4c88ec5",
   "metadata": {},
   "outputs": [
    {
     "data": {
      "text/html": [
       "<div>\n",
       "<style scoped>\n",
       "    .dataframe tbody tr th:only-of-type {\n",
       "        vertical-align: middle;\n",
       "    }\n",
       "\n",
       "    .dataframe tbody tr th {\n",
       "        vertical-align: top;\n",
       "    }\n",
       "\n",
       "    .dataframe thead th {\n",
       "        text-align: right;\n",
       "    }\n",
       "</style>\n",
       "<table border=\"1\" class=\"dataframe\">\n",
       "  <thead>\n",
       "    <tr style=\"text-align: right;\">\n",
       "      <th></th>\n",
       "      <th>min</th>\n",
       "      <th>median</th>\n",
       "      <th>max</th>\n",
       "      <th>count</th>\n",
       "    </tr>\n",
       "    <tr>\n",
       "      <th>primary_icd10_code</th>\n",
       "      <th></th>\n",
       "      <th></th>\n",
       "      <th></th>\n",
       "      <th></th>\n",
       "    </tr>\n",
       "  </thead>\n",
       "  <tbody>\n",
       "    <tr>\n",
       "      <th>I27.89</th>\n",
       "      <td>397</td>\n",
       "      <td>8057.0</td>\n",
       "      <td>29518</td>\n",
       "      <td>588</td>\n",
       "    </tr>\n",
       "    <tr>\n",
       "      <th>K21.9</th>\n",
       "      <td>235</td>\n",
       "      <td>5740.0</td>\n",
       "      <td>29914</td>\n",
       "      <td>1120</td>\n",
       "    </tr>\n",
       "    <tr>\n",
       "      <th>K25.0</th>\n",
       "      <td>1572</td>\n",
       "      <td>5651.0</td>\n",
       "      <td>17853</td>\n",
       "      <td>23</td>\n",
       "    </tr>\n",
       "    <tr>\n",
       "      <th>K25.4</th>\n",
       "      <td>1002</td>\n",
       "      <td>4506.0</td>\n",
       "      <td>27998</td>\n",
       "      <td>60</td>\n",
       "    </tr>\n",
       "    <tr>\n",
       "      <th>K29.90</th>\n",
       "      <td>495</td>\n",
       "      <td>7058.0</td>\n",
       "      <td>27195</td>\n",
       "      <td>60</td>\n",
       "    </tr>\n",
       "    <tr>\n",
       "      <th>K29.91</th>\n",
       "      <td>743</td>\n",
       "      <td>5400.0</td>\n",
       "      <td>16871</td>\n",
       "      <td>39</td>\n",
       "    </tr>\n",
       "    <tr>\n",
       "      <th>K51.00</th>\n",
       "      <td>1815</td>\n",
       "      <td>13809.0</td>\n",
       "      <td>22736</td>\n",
       "      <td>5</td>\n",
       "    </tr>\n",
       "    <tr>\n",
       "      <th>K51.90</th>\n",
       "      <td>792</td>\n",
       "      <td>8132.0</td>\n",
       "      <td>25230</td>\n",
       "      <td>53</td>\n",
       "    </tr>\n",
       "    <tr>\n",
       "      <th>K52.9</th>\n",
       "      <td>840</td>\n",
       "      <td>5494.0</td>\n",
       "      <td>29074</td>\n",
       "      <td>47</td>\n",
       "    </tr>\n",
       "    <tr>\n",
       "      <th>K56.60</th>\n",
       "      <td>1171</td>\n",
       "      <td>5376.0</td>\n",
       "      <td>28649</td>\n",
       "      <td>67</td>\n",
       "    </tr>\n",
       "    <tr>\n",
       "      <th>K56.69</th>\n",
       "      <td>510</td>\n",
       "      <td>7835.5</td>\n",
       "      <td>27371</td>\n",
       "      <td>40</td>\n",
       "    </tr>\n",
       "    <tr>\n",
       "      <th>K58.9</th>\n",
       "      <td>1103</td>\n",
       "      <td>8456.0</td>\n",
       "      <td>27802</td>\n",
       "      <td>31</td>\n",
       "    </tr>\n",
       "    <tr>\n",
       "      <th>K92.2</th>\n",
       "      <td>139</td>\n",
       "      <td>6566.5</td>\n",
       "      <td>29960</td>\n",
       "      <td>334</td>\n",
       "    </tr>\n",
       "  </tbody>\n",
       "</table>\n",
       "</div>"
      ],
      "text/plain": [
       "                     min   median    max  count\n",
       "primary_icd10_code                             \n",
       "I27.89               397   8057.0  29518    588\n",
       "K21.9                235   5740.0  29914   1120\n",
       "K25.0               1572   5651.0  17853     23\n",
       "K25.4               1002   4506.0  27998     60\n",
       "K29.90               495   7058.0  27195     60\n",
       "K29.91               743   5400.0  16871     39\n",
       "K51.00              1815  13809.0  22736      5\n",
       "K51.90               792   8132.0  25230     53\n",
       "K52.9                840   5494.0  29074     47\n",
       "K56.60              1171   5376.0  28649     67\n",
       "K56.69               510   7835.5  27371     40\n",
       "K58.9               1103   8456.0  27802     31\n",
       "K92.2                139   6566.5  29960    334"
      ]
     },
     "execution_count": 8,
     "metadata": {},
     "output_type": "execute_result"
    }
   ],
   "source": [
    "#icds = [item for sublist in icd10_class_def for item in sublist]\n",
    "pn_notesb = pn_notes[pn_notes.note_length < 30000]\n",
    "pn_notesb.groupby(['primary_icd10_code'])\\\n",
    "                 .agg(min=('note_length', 'min'), median=('note_length','median'),\\\n",
    "                  max=('note_length','max') , count=('hadm_id','count'))"
   ]
  },
  {
   "cell_type": "code",
   "execution_count": 9,
   "id": "6590deb0",
   "metadata": {},
   "outputs": [],
   "source": [
    "# Opposed to other authors I did splitting first\n",
    "# I am using base_adms here becuase scrub test split notes into pieces (multiple records per admiss)\n",
    "\n",
    "class_a_id = pn_notes[pn_notes.primary_icd10_code.isin(icd10_class_def[0])].hadm_id\n",
    "class_b_id = pn_notes[pn_notes.primary_icd10_code.isin(icd10_class_def[1])].hadm_id\n",
    "\n",
    "# split train/test/val\n",
    "# test\n",
    "class_a_test = class_a_id.sample(frac=0.1, random_state=1)\n",
    "class_b_test = class_b_id.sample(frac=0.1, random_state=1)\n",
    "\n",
    "\n",
    "# train\n",
    "class_a_train = class_a_id.drop(class_a_test.index)\n",
    "class_b_train = class_b_id.drop(class_b_test.index)\n",
    "\n",
    "# split test and val\n",
    "class_a_val = class_a_test.sample(frac=0.5, random_state=1)\n",
    "class_a_test = class_a_test.drop(class_a_val.index)\n",
    "class_b_val = class_b_test.sample(frac=0.5, random_state=1)\n",
    "class_b_test = class_b_test.drop(class_b_val.index)\n"
   ]
  },
  {
   "cell_type": "code",
   "execution_count": 10,
   "id": "b4605626",
   "metadata": {},
   "outputs": [
    {
     "name": "stdout",
     "output_type": "stream",
     "text": [
      "(602,)\n",
      "(33,)\n",
      "(34,)\n",
      "(1088,)\n",
      "(61,)\n",
      "(60,)\n"
     ]
    }
   ],
   "source": [
    "print(class_a_train.shape)\n",
    "print(class_a_test.shape)\n",
    "print(class_a_val.shape)\n",
    "print(class_b_train.shape)\n",
    "print(class_b_test.shape)\n",
    "print(class_b_val.shape)\n"
   ]
  },
  {
   "cell_type": "code",
   "execution_count": 11,
   "id": "4980e5fc",
   "metadata": {},
   "outputs": [],
   "source": [
    "# Rebalance\n",
    "\n",
    "class_a_train_rs = class_a_train.sample(n=500, replace=False, random_state=1)\n",
    "class_b_train_rs = class_b_train.sample(n=500, replace=False, random_state=1)\n",
    "\n",
    "class_a_test_rs = class_a_test.sample(n=30, replace=False, random_state=1)\n",
    "class_b_test_rs = class_b_test.sample(n=30, replace=False, random_state=1)\n",
    "\n",
    "class_a_val_rs = class_a_val.sample(n=30, replace=False, random_state=1)\n",
    "class_b_val_rs = class_b_val.sample(n=30, replace=False, random_state=1)"
   ]
  },
  {
   "cell_type": "code",
   "execution_count": 12,
   "id": "08583478",
   "metadata": {},
   "outputs": [
    {
     "data": {
      "text/plain": [
       "1807    144328\n",
       "1904    164175\n",
       "2610    157880\n",
       "1132    191491\n",
       "Name: hadm_id, dtype: Int64"
      ]
     },
     "execution_count": 12,
     "metadata": {},
     "output_type": "execute_result"
    }
   ],
   "source": [
    "class_b_val_rs[1:5]"
   ]
  },
  {
   "cell_type": "code",
   "execution_count": 13,
   "id": "2c439c26",
   "metadata": {},
   "outputs": [
    {
     "name": "stdout",
     "output_type": "stream",
     "text": [
      "train\n",
      "size :  500\n",
      "size :  500\n",
      "test\n",
      "size :  30\n",
      "size :  30\n",
      "val\n",
      "size :  30\n",
      "size :  30\n"
     ]
    }
   ],
   "source": [
    "# check balancing\n",
    "\n",
    "df_list = [class_a_train_rs, class_b_train_rs]\n",
    "print('train')\n",
    "for x in df_list:\n",
    "    print('size : ', len(x))\n",
    "\n",
    "\n",
    "df_listb = [class_a_test_rs, class_b_test_rs]\n",
    "print('test')\n",
    "for x in df_listb:\n",
    "    print('size : ', len(x))\n",
    "\n",
    "df_listc = [class_a_val_rs, class_b_val_rs]\n",
    "print('val')\n",
    "for x in df_listc:\n",
    "    print('size : ', len(x))\n"
   ]
  },
  {
   "cell_type": "code",
   "execution_count": 14,
   "id": "f91f6e7f",
   "metadata": {},
   "outputs": [
    {
     "name": "stdout",
     "output_type": "stream",
     "text": [
      "train size:  1000\n",
      "test size:  60\n",
      "val size:  60\n"
     ]
    },
    {
     "data": {
      "text/plain": [
       "array([], dtype=object)"
      ]
     },
     "execution_count": 14,
     "metadata": {},
     "output_type": "execute_result"
    }
   ],
   "source": [
    "# concatenate and test size and look for any overlap between test and train\n",
    "train_df_list = [class_a_train_rs, class_b_train_rs]\n",
    "id_train_df = pd.concat(train_df_list)\n",
    "\n",
    "test_df_list = [class_a_test_rs, class_b_test_rs]\n",
    "id_test_df = pd.concat(test_df_list)\n",
    "\n",
    "val_df_list = [class_a_val_rs, class_b_val_rs]\n",
    "id_val_df = pd.concat(val_df_list)\n",
    "\n",
    "print('train size: ', id_train_df.shape[0])\n",
    "print('test size: ', id_test_df.shape[0])\n",
    "print('val size: ', id_val_df.shape[0])\n",
    " \n",
    "# check between train and test\n",
    "(pd.Index(id_test_df).intersection(pd.Index(id_train_df))).values\n",
    "\n",
    "# print('between 25.0')\n",
    "# (pd.Index(k25_0_train).intersection(pd.Index(k25_0_test))).values\n",
    "\n",
    "# print('between 25.4')\n",
    "# (pd.Index(k25_4_train).intersection(pd.Index(k25_4_test))).values\n",
    "\n",
    "# print('between 29.90')\n",
    "# (pd.Index(k29_90_train).intersection(pd.Index(k29_90_test))).values\n",
    "\n",
    "# print('between 29.91')\n",
    "# (pd.Index(k29_91_train).intersection(pd.Index(k29_91_test))).values\n",
    "\n",
    "# print('between 51.00')\n",
    "# (pd.Index(k51_00_train).intersection(pd.Index(k51_00_test))).values\n",
    "\n",
    "# print('between 51.90')\n",
    "# (pd.Index(k51_90_train).intersection(pd.Index(k51_90_test))).values\n",
    "\n",
    "# print('between 52.9')\n",
    "# (pd.Index(k52_9_train).intersection(pd.Index(k52_9_test))).values\n",
    "\n",
    "# print('between 56.60')\n",
    "# (pd.Index(k56_60_train).intersection(pd.Index(k56_60_test))).values\n",
    "\n",
    "# print('between 56.69')\n",
    "# (pd.Index(k56_69_train).intersection(pd.Index(k56_69_test))).values\n",
    "\n",
    "# print('between 58.9')\n",
    "# (pd.Index(k58_9_train).intersection(pd.Index(k58_9_test))).values\n",
    "\n",
    "\n"
   ]
  },
  {
   "cell_type": "code",
   "execution_count": 15,
   "id": "f61f2f9d",
   "metadata": {},
   "outputs": [
    {
     "name": "stdout",
     "output_type": "stream",
     "text": [
      "(1000,)\n",
      "(2694, 19)\n"
     ]
    },
    {
     "data": {
      "text/plain": [
       "Index(['subject_id', 'hadm_id', 'icd9_codes', 'primary_icd9_code',\n",
       "       'primary_icd10_code', 'stay_hours', 'admittime', 'dischtime',\n",
       "       'deathtime', 'admission_type', 'insurance', 'language', 'religion',\n",
       "       'marital_status', 'ethnicity', 'diagnosis', 'ethnic_group', 'text',\n",
       "       'note_length'],\n",
       "      dtype='object')"
      ]
     },
     "execution_count": 15,
     "metadata": {},
     "output_type": "execute_result"
    }
   ],
   "source": [
    "print(id_train_df.shape)\n",
    "print(pn_notes.shape)\n",
    "len(pn_notes['hadm_id'].unique())\n",
    "pn_notes.columns"
   ]
  },
  {
   "cell_type": "code",
   "execution_count": 16,
   "id": "a12bb0c1",
   "metadata": {},
   "outputs": [
    {
     "data": {
      "text/plain": [
       "Index(['subject_id', 'id', 'icd9_codes', 'primary_icd9_code',\n",
       "       'primary_icd10_code', 'stay_hours', 'admittime', 'dischtime',\n",
       "       'deathtime', 'admission_type', 'insurance', 'language', 'religion',\n",
       "       'marital_status', 'ethnicity', 'diagnosis', 'ethnic_group', 'text',\n",
       "       'note_length'],\n",
       "      dtype='object')"
      ]
     },
     "execution_count": 16,
     "metadata": {},
     "output_type": "execute_result"
    }
   ],
   "source": [
    "pn_notes = pn_notes.rename(columns={'hadm_id': 'id'})\n",
    "pn_notes.columns"
   ]
  },
  {
   "cell_type": "code",
   "execution_count": 17,
   "id": "355eaedc",
   "metadata": {},
   "outputs": [
    {
     "name": "stdout",
     "output_type": "stream",
     "text": [
      "train Index(['hadm_id', 'subject_id', 'icd9_codes', 'primary_icd9_code',\n",
      "       'primary_icd10_code', 'stay_hours', 'admittime', 'dischtime',\n",
      "       'deathtime', 'admission_type', 'insurance', 'language', 'religion',\n",
      "       'marital_status', 'ethnicity', 'diagnosis', 'ethnic_group', 'text',\n",
      "       'note_length', 'label'],\n",
      "      dtype='object')\n",
      "test Index(['hadm_id', 'subject_id', 'icd9_codes', 'primary_icd9_code',\n",
      "       'primary_icd10_code', 'stay_hours', 'admittime', 'dischtime',\n",
      "       'deathtime', 'admission_type', 'insurance', 'language', 'religion',\n",
      "       'marital_status', 'ethnicity', 'diagnosis', 'ethnic_group', 'text',\n",
      "       'note_length', 'label'],\n",
      "      dtype='object')\n",
      "val Index(['hadm_id', 'subject_id', 'icd9_codes', 'primary_icd9_code',\n",
      "       'primary_icd10_code', 'stay_hours', 'admittime', 'dischtime',\n",
      "       'deathtime', 'admission_type', 'insurance', 'language', 'religion',\n",
      "       'marital_status', 'ethnicity', 'diagnosis', 'ethnic_group', 'text',\n",
      "       'note_length', 'label'],\n",
      "      dtype='object')\n"
     ]
    }
   ],
   "source": [
    "pn_notes\n",
    "def create_label(text):\n",
    "    \n",
    "    if text in icd10_class_def[0]:\n",
    "        temp_val = 0\n",
    "    elif text in icd10_class_def[1]:\n",
    "        temp_val = 1\n",
    "    else:\n",
    "        temp_val = 99\n",
    "    \n",
    "    return(temp_val)\n",
    "\n",
    "\n",
    "id_train_df = pd.DataFrame(id_train_df)\n",
    "intsl_train = pd.merge(id_train_df, pn_notes, left_on=['hadm_id'], right_on=['id'], how='left').drop(columns = ['id'])\n",
    "#intsl_train = intsl_train.rename(columns={'hadm_id_x': 'hadm_id'})\n",
    "#intsl_train = intsl_train.drop('hadm_id_y', axis = 1)\n",
    "intsl_train['label'] = intsl_train['primary_icd10_code'].map(create_label).astype('category')\n",
    "intsl_train['hadm_id'] = intsl_train['hadm_id'].astype('Int64')\n",
    "intsl_train['text'] = intsl_train['text'].astype('string')\n",
    "print('train', intsl_train.columns)\n",
    "\n",
    "id_test_df = pd.DataFrame(id_test_df)\n",
    "intsl_test = pd.merge(id_test_df, pn_notes, left_on=['hadm_id'], right_on=['id'], how='left').drop(columns = ['id'])\n",
    "# intsl_test = intsl_test.rename(columns={'hadm_id_x': 'hadm_id'})\n",
    "# intsl_test = intsl_test.drop('hadm_id_y', axis = 1)\n",
    "intsl_test['label'] = intsl_test['primary_icd10_code'].map(create_label).astype('category')\n",
    "intsl_test['hadm_id'] = intsl_test['hadm_id'].astype('Int64')\n",
    "intsl_test['text'] = intsl_test['text'].astype('string')\n",
    "\n",
    "print('test', intsl_test.columns)\n",
    "\n",
    "id_val_df = pd.DataFrame(id_val_df)\n",
    "intsl_val = pd.merge(id_val_df, pn_notes, left_on=['hadm_id'], right_on=['id'], how='left').drop(columns = ['id'])\n",
    "#intsl_val = intsl_val.rename(columns={'hadm_id_x': 'hadm_id'})\n",
    "#intsl_val = intsl_val.drop('hadm_id_y', axis = 1)\n",
    "intsl_val['label'] = intsl_val['primary_icd10_code'].map(create_label).astype('category')\n",
    "intsl_val['hadm_id'] = intsl_val['hadm_id'].astype('Int64')\n",
    "intsl_val['text'] = intsl_val['text'].astype('string')\n",
    "intsl_val['label'] = intsl_val['label'].astype('category')\n",
    "print('val', intsl_val.columns)\n",
    "\n",
    "# early_test.to_csv('./data/3days/test.csv')"
   ]
  },
  {
   "cell_type": "code",
   "execution_count": 18,
   "id": "0db660ea",
   "metadata": {},
   "outputs": [
    {
     "name": "stdout",
     "output_type": "stream",
     "text": [
      "       id                                               text icd10_code label\n",
      "1  105739  yo male with hiv, phtn, hep c cirrhosis, osa, ...     I27.89     0\n",
      "2  115732  encephalitis assessment: pt remains unresponsi...     I27.89     0\n",
      "3  161874  events: ct head, spine- ct f/u shd- no acute b...     I27.89     0\n",
      "4  156512  ccu nsg admit/progress note a-a/ s/p ami s- \" ...     I27.89     0\n",
      "       id                                               text icd10_code label\n",
      "1  182294  tachycardic w labile bp requiring volume for l...     I27.89     0\n",
      "2  115665  resp care pt. is a yo woman who felt sob, call...     I27.89     0\n",
      "3  198985  nursing progress note o: yo women admitted fro...     I27.89     0\n",
      "4  124458  respiratory care: patient transferred from osh...     I27.89     0\n",
      "       id                                               text icd10_code label\n",
      "1  120917  prob: s/p cabg x, iabp cv: st with occ pvcs no...     I27.89     0\n",
      "2  130947  yr old with worsening o sats and sob at nursin...     I27.89     0\n",
      "3  105504  hemodynamically stable after volume,ntg requir...     I27.89     0\n",
      "4  176886  pmicu nsg admit/progress note the pt is a yo w...     I27.89     0\n"
     ]
    }
   ],
   "source": [
    "intsl_train = intsl_train[['hadm_id', 'text', 'primary_icd10_code', 'label']]\\\n",
    "                     .rename(columns={'hadm_id':'id', 'primary_icd10_code':'icd10_code'})\n",
    "intsl_test = intsl_test[['hadm_id', 'text', 'primary_icd10_code', 'label']]\\\n",
    "                     .rename(columns={'hadm_id':'id', 'primary_icd10_code':'icd10_code'})\n",
    "intsl_val = intsl_val[['hadm_id', 'text', 'primary_icd10_code', 'label']]\\\n",
    "                     .rename(columns={'hadm_id':'id', 'primary_icd10_code':'icd10_code'})\n",
    "print(intsl_train[1:5])\n",
    "print(intsl_test[1:5])\n",
    "print(intsl_val[1:5])"
   ]
  },
  {
   "cell_type": "code",
   "execution_count": 19,
   "id": "b7192904",
   "metadata": {},
   "outputs": [
    {
     "name": "stdout",
     "output_type": "stream",
     "text": [
      "label\n",
      "0    500\n",
      "1    500\n",
      "Name: id, dtype: int64\n",
      "label\n",
      "0    30\n",
      "1    30\n",
      "Name: id, dtype: int64\n",
      "label\n",
      "0    30\n",
      "1    30\n",
      "Name: id, dtype: int64\n"
     ]
    }
   ],
   "source": [
    "print(intsl_train.groupby('label')['id'].count())\n",
    "print(intsl_test.groupby('label')['id'].count())\n",
    "print(intsl_val.groupby('label')['id'].count())"
   ]
  },
  {
   "cell_type": "code",
   "execution_count": 20,
   "id": "12892389",
   "metadata": {},
   "outputs": [
    {
     "name": "stdout",
     "output_type": "stream",
     "text": [
      "id               Int64\n",
      "text            string\n",
      "icd10_code      string\n",
      "label         category\n",
      "dtype: object\n"
     ]
    },
    {
     "data": {
      "text/html": [
       "<div>\n",
       "<style scoped>\n",
       "    .dataframe tbody tr th:only-of-type {\n",
       "        vertical-align: middle;\n",
       "    }\n",
       "\n",
       "    .dataframe tbody tr th {\n",
       "        vertical-align: top;\n",
       "    }\n",
       "\n",
       "    .dataframe thead th {\n",
       "        text-align: right;\n",
       "    }\n",
       "</style>\n",
       "<table border=\"1\" class=\"dataframe\">\n",
       "  <thead>\n",
       "    <tr style=\"text-align: right;\">\n",
       "      <th></th>\n",
       "      <th>id</th>\n",
       "      <th>text</th>\n",
       "      <th>icd10_code</th>\n",
       "      <th>label</th>\n",
       "    </tr>\n",
       "  </thead>\n",
       "  <tbody>\n",
       "    <tr>\n",
       "      <th>1</th>\n",
       "      <td>105739</td>\n",
       "      <td>yo male with hiv, phtn, hep c cirrhosis, osa, ...</td>\n",
       "      <td>I27.89</td>\n",
       "      <td>0</td>\n",
       "    </tr>\n",
       "    <tr>\n",
       "      <th>2</th>\n",
       "      <td>115732</td>\n",
       "      <td>encephalitis assessment: pt remains unresponsi...</td>\n",
       "      <td>I27.89</td>\n",
       "      <td>0</td>\n",
       "    </tr>\n",
       "    <tr>\n",
       "      <th>3</th>\n",
       "      <td>161874</td>\n",
       "      <td>events: ct head, spine- ct f/u shd- no acute b...</td>\n",
       "      <td>I27.89</td>\n",
       "      <td>0</td>\n",
       "    </tr>\n",
       "    <tr>\n",
       "      <th>4</th>\n",
       "      <td>156512</td>\n",
       "      <td>ccu nsg admit/progress note a-a/ s/p ami s- \" ...</td>\n",
       "      <td>I27.89</td>\n",
       "      <td>0</td>\n",
       "    </tr>\n",
       "  </tbody>\n",
       "</table>\n",
       "</div>"
      ],
      "text/plain": [
       "       id                                               text icd10_code label\n",
       "1  105739  yo male with hiv, phtn, hep c cirrhosis, osa, ...     I27.89     0\n",
       "2  115732  encephalitis assessment: pt remains unresponsi...     I27.89     0\n",
       "3  161874  events: ct head, spine- ct f/u shd- no acute b...     I27.89     0\n",
       "4  156512  ccu nsg admit/progress note a-a/ s/p ami s- \" ...     I27.89     0"
      ]
     },
     "execution_count": 20,
     "metadata": {},
     "output_type": "execute_result"
    }
   ],
   "source": [
    "print(intsl_train.dtypes)\n",
    "intsl_train[1:5]"
   ]
  },
  {
   "cell_type": "code",
   "execution_count": 21,
   "id": "ff594bb2",
   "metadata": {},
   "outputs": [
    {
     "data": {
      "text/plain": [
       "'  This is extra as an example of pansql\\n\\nimport pandasql as ps\\n\\n#qintsl = intsl_notes[[\\'subject_id\\', \\'hadm_id\\']]\\n# print(qintsl.dtypes)\\na1 = \"SELECT avg(text_length) FROM \\\\ \\n        (select len(text) as text_len from id_train_df) as a \"\\n        \\n\\nl1 = ps.sqldf(a1, locals())\\nprint(l1) '"
      ]
     },
     "execution_count": 21,
     "metadata": {},
     "output_type": "execute_result"
    }
   ],
   "source": [
    "\"\"\"  This is extra as an example of pansql\n",
    "\n",
    "import pandasql as ps\n",
    "\n",
    "#qintsl = intsl_notes[['subject_id', 'hadm_id']]\n",
    "# print(qintsl.dtypes)\n",
    "a1 = \"SELECT avg(text_length) FROM \\ \n",
    "        (select len(text) as text_len from id_train_df) as a \"\n",
    "        \n",
    "\n",
    "l1 = ps.sqldf(a1, locals())\n",
    "print(l1) \"\"\""
   ]
  },
  {
   "cell_type": "code",
   "execution_count": 22,
   "id": "68bc36be",
   "metadata": {},
   "outputs": [
    {
     "data": {
      "text/plain": [
       "icd10_code  label\n",
       "I27.89      0        500\n",
       "            1          0\n",
       "K21.9       0          0\n",
       "            1        500\n",
       "Name: id, dtype: int64"
      ]
     },
     "execution_count": 22,
     "metadata": {},
     "output_type": "execute_result"
    }
   ],
   "source": [
    "intsl_train[['id','text', 'icd10_code','label']].groupby(['icd10_code', 'label'])['id'].count()\n"
   ]
  },
  {
   "cell_type": "markdown",
   "id": "0ad6336e",
   "metadata": {
    "scrolled": false
   },
   "source": [
    "<div class=\"alert alert-block alert-success\"><font color=\"black\"><h1><left>Write File with Admission Details and Attached Combined Notes</left></h1></font></div>"
   ]
  },
  {
   "cell_type": "code",
   "execution_count": 23,
   "id": "7c16fb3a",
   "metadata": {},
   "outputs": [],
   "source": [
    "path = 'E://Education//DataScience/CCSU-Data-Science/Data-Mining-And-Predictive-Analytics/Data-532/Data/'\n",
    "intsl_train.to_parquet(path + 'intsl_train_reflex_heart.snappy.parquet',compression='snappy',index=None)  \n",
    "intsl_test.to_parquet(path + 'intsl_test_reflex_heart.snappy.parquet',compression='snappy',index=None)  \n",
    "intsl_val.to_parquet(path + 'intsl_val_reflex_heart.snappy.parquet',compression='snappy',index=None)  \n"
   ]
  },
  {
   "cell_type": "code",
   "execution_count": 24,
   "id": "5b8adbc3",
   "metadata": {},
   "outputs": [],
   "source": [
    "import boto3, os\n",
    "s3 = boto3.resource('s3')\n",
    "path = 'E://Education//DataScience/CCSU-Data-Science/Data-Mining-And-Predictive-Analytics/Data-532/Data/'\n",
    "fname = 'intsl_train_reflex_heart.snappy.parquet'\n",
    "f2name = 'intsl_test_reflex_heart.snappy.parquet'\n",
    "f3name = 'intsl_val_reflex_heart.snappy.parquet'\n",
    "S3_path = 'MIMIC/Data/' + fname\n",
    "S3_path2 = 'MIMIC/Data/' + f2name\n",
    "S3_path3 = 'MIMIC/Data/' + f3name\n",
    "out_file = path + fname\n",
    "out_file2 = path + f2name\n",
    "out_file3 = path + f3name"
   ]
  },
  {
   "cell_type": "code",
   "execution_count": 25,
   "id": "558efe4b",
   "metadata": {},
   "outputs": [],
   "source": [
    "s3.meta.client.upload_file(out_file, 'depratti-masters-thesis', S3_path)\n",
    "s3.meta.client.upload_file(out_file2, 'depratti-masters-thesis', S3_path2)\n",
    "s3.meta.client.upload_file(out_file3, 'depratti-masters-thesis', S3_path3)"
   ]
  },
  {
   "cell_type": "code",
   "execution_count": 26,
   "id": "287b5176",
   "metadata": {},
   "outputs": [
    {
     "name": "stdout",
     "output_type": "stream",
     "text": [
      "(1000, 4)\n",
      "(60, 4)\n",
      "(60, 4)\n"
     ]
    }
   ],
   "source": [
    "print(intsl_train.shape)\n",
    "print(intsl_test.shape)\n",
    "print(intsl_val.shape)"
   ]
  },
  {
   "cell_type": "code",
   "execution_count": null,
   "id": "44ee9c90",
   "metadata": {},
   "outputs": [],
   "source": []
  }
 ],
 "metadata": {
  "kernelspec": {
   "display_name": "Python [conda env:research]",
   "language": "python",
   "name": "conda-env-research-py"
  },
  "language_info": {
   "codemirror_mode": {
    "name": "ipython",
    "version": 3
   },
   "file_extension": ".py",
   "mimetype": "text/x-python",
   "name": "python",
   "nbconvert_exporter": "python",
   "pygments_lexer": "ipython3",
   "version": "3.9.15"
  }
 },
 "nbformat": 4,
 "nbformat_minor": 5
}
