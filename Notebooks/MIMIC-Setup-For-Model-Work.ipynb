{
 "cells": [
  {
   "cell_type": "markdown",
   "id": "7a3a8acb",
   "metadata": {},
   "source": [
    "<div class=\"alert alert-block alert-success\"><font color=\"black\"><h1><left>Setup Work For MIMIC Model Creation For Intestinal Model</left></h1></font><P>\n",
    "<font size=\"5\">- Balance Outcomes</font><P>\n",
    "<font size=\"5\">- Train/Test/Val Split</font></div>"
   ]
  },
  {
   "cell_type": "code",
   "execution_count": 1,
   "id": "b40095d7",
   "metadata": {},
   "outputs": [],
   "source": [
    "#Import libraries\n",
    "import pandas as pd\n",
    "import numpy as np\n",
    "import matplotlib.pyplot as plt\n",
    "import re"
   ]
  },
  {
   "cell_type": "code",
   "execution_count": 2,
   "id": "1095b7f2",
   "metadata": {},
   "outputs": [],
   "source": [
    "# Notebook Global Variables\n",
    "# This is replaced with c;lass definitions in initial spreadsheet\n",
    "icd_category = ['Colitis','Gastritis','Reflux', 'Heart']\n",
    "icd_codes = ['K51.90','K29.90','K21.9','I27.89']\n",
    "group_type = 'indiv'\n"
   ]
  },
  {
   "cell_type": "code",
   "execution_count": 3,
   "id": "17845bc5",
   "metadata": {},
   "outputs": [],
   "source": [
    "path = 'E:\\Education\\DataScience\\CCSU-Data-Science\\Data-Mining-And-Predictive-Analytics\\Data-532\\Data\\\\'\n",
    "file1 = path + 'pd_notes_clean.snappy.parquet'\n",
    "file2 = path + 'discharge_notes_clean.snappy.parquet'\n",
    "# file3 = path + 'base_adms.snappy.parquet'\n",
    "# file4 = path + 'pd_notes.snappy.parquet'"
   ]
  },
  {
   "cell_type": "code",
   "execution_count": 4,
   "id": "486a65ff",
   "metadata": {},
   "outputs": [
    {
     "name": "stdout",
     "output_type": "stream",
     "text": [
      "Admissions in pn notes:  2289 Unique admissions:  2289\n",
      "Admissions in discharge notes:  6027 Unique discharge admissions:  5504\n"
     ]
    }
   ],
   "source": [
    "# Read data and examine counts\n",
    "# Consistency between pn_notes and bas_adms shows I can eliminate base adm processing now that \n",
    "# segmentizing was removed from here and delegated to Hugging Face API\n",
    "pn_notes = pd.read_parquet(file1,engine='auto',use_nullable_dtypes=True)\n",
    "print('Admissions in pn notes: ', pn_notes.shape[0], 'Unique admissions: ', len(pn_notes['hadm_id'].unique()))\n",
    "# print(pn_notes[0:3])\n",
    "discharge_notes = pd.read_parquet(file2,engine='auto',use_nullable_dtypes=True)\n",
    "print('Admissions in discharge notes: ', discharge_notes.shape[0], 'Unique discharge admissions: ', len(discharge_notes['hadm_id'].unique()))\n",
    "# discharge_notes[0:3]\n",
    "#base_adms = pd.read_parquet(file3,engine='auto',use_nullable_dtypes=True)\n",
    "#print('Admissions in base notes: ', base_adms.shape[0], 'Unique base admissions: ', len(base_adms['hadm_id'].unique()))\n",
    "# base_adms[0:3]\n",
    "\n"
   ]
  },
  {
   "cell_type": "code",
   "execution_count": 5,
   "id": "b199ca59",
   "metadata": {},
   "outputs": [
    {
     "data": {
      "text/plain": [
       "Index(['subject_id', 'hadm_id', 'icd9_codes', 'primary_icd9_code',\n",
       "       'primary_icd10_code', 'stay_hours', 'admittime', 'dischtime',\n",
       "       'deathtime', 'admission_type', 'insurance', 'language', 'religion',\n",
       "       'marital_status', 'ethnicity', 'diagnosis', 'icd_category',\n",
       "       'ethnic_group', 'text', 'note_length'],\n",
       "      dtype='object')"
      ]
     },
     "execution_count": 5,
     "metadata": {},
     "output_type": "execute_result"
    }
   ],
   "source": [
    "pn_notes.columns"
   ]
  },
  {
   "cell_type": "code",
   "execution_count": 6,
   "id": "4d42c3d6",
   "metadata": {},
   "outputs": [
    {
     "data": {
      "text/plain": [
       "icd_category\n",
       "Colitis       129\n",
       "Gastritis     103\n",
       "Heart         695\n",
       "IBS            33\n",
       "Reflux       1212\n",
       "Ulcer         117\n",
       "Name: hadm_id, dtype: int64"
      ]
     },
     "execution_count": 6,
     "metadata": {},
     "output_type": "execute_result"
    }
   ],
   "source": [
    "# count output diagnosis codes\n",
    "pn_notes.groupby('icd_category')['hadm_id'].count()"
   ]
  },
  {
   "cell_type": "code",
   "execution_count": 7,
   "id": "659bc33d",
   "metadata": {},
   "outputs": [
    {
     "name": "stdout",
     "output_type": "stream",
     "text": [
      "(51, 20)\n",
      "(59, 20)\n",
      "(1121, 20)\n",
      "(557, 20)\n",
      "(1788, 20)\n"
     ]
    },
    {
     "data": {
      "text/html": [
       "<div>\n",
       "<style scoped>\n",
       "    .dataframe tbody tr th:only-of-type {\n",
       "        vertical-align: middle;\n",
       "    }\n",
       "\n",
       "    .dataframe tbody tr th {\n",
       "        vertical-align: top;\n",
       "    }\n",
       "\n",
       "    .dataframe thead th {\n",
       "        text-align: right;\n",
       "    }\n",
       "</style>\n",
       "<table border=\"1\" class=\"dataframe\">\n",
       "  <thead>\n",
       "    <tr style=\"text-align: right;\">\n",
       "      <th></th>\n",
       "      <th>min</th>\n",
       "      <th>median</th>\n",
       "      <th>max</th>\n",
       "      <th>count</th>\n",
       "    </tr>\n",
       "    <tr>\n",
       "      <th>icd_category</th>\n",
       "      <th></th>\n",
       "      <th></th>\n",
       "      <th></th>\n",
       "      <th></th>\n",
       "    </tr>\n",
       "  </thead>\n",
       "  <tbody>\n",
       "    <tr>\n",
       "      <th>Colitis</th>\n",
       "      <td>792</td>\n",
       "      <td>8265.0</td>\n",
       "      <td>88904</td>\n",
       "      <td>51</td>\n",
       "    </tr>\n",
       "    <tr>\n",
       "      <th>Gastritis</th>\n",
       "      <td>495</td>\n",
       "      <td>7399.0</td>\n",
       "      <td>89835</td>\n",
       "      <td>59</td>\n",
       "    </tr>\n",
       "    <tr>\n",
       "      <th>Heart</th>\n",
       "      <td>397</td>\n",
       "      <td>8500.0</td>\n",
       "      <td>99480</td>\n",
       "      <td>557</td>\n",
       "    </tr>\n",
       "    <tr>\n",
       "      <th>Reflux</th>\n",
       "      <td>235</td>\n",
       "      <td>6152.0</td>\n",
       "      <td>99969</td>\n",
       "      <td>1121</td>\n",
       "    </tr>\n",
       "  </tbody>\n",
       "</table>\n",
       "</div>"
      ],
      "text/plain": [
       "              min  median    max  count\n",
       "icd_category                           \n",
       "Colitis       792  8265.0  88904     51\n",
       "Gastritis     495  7399.0  89835     59\n",
       "Heart         397  8500.0  99480    557\n",
       "Reflux        235  6152.0  99969   1121"
      ]
     },
     "execution_count": 7,
     "metadata": {},
     "output_type": "execute_result"
    }
   ],
   "source": [
    "# This cell is added to performe special selection needs priuor to balancing\n",
    "# for example to set a classes range prior to balancing to produce similar distribution on note size\n",
    "\n",
    "\n",
    "\n",
    "if group_type == 'indiv':\n",
    "    temp_table = icd_codes\n",
    "    pn_notes_cla = pn_notes[(pn_notes.primary_icd10_code == temp_table[0]) & (pn_notes.note_length < 100000)]\n",
    "    print(pn_notes_cla.shape)\n",
    "    pn_notes_clb = pn_notes[(pn_notes.primary_icd10_code == temp_table[1]) & (pn_notes.note_length < 100000)]\n",
    "    print(pn_notes_clb.shape)\n",
    "    pn_notes_clc = pn_notes[(pn_notes.primary_icd10_code == temp_table[2]) & (pn_notes.note_length < 100000)]\n",
    "    print(pn_notes_clc.shape)\n",
    "    pn_notes_cld = pn_notes[(pn_notes.primary_icd10_code == temp_table[3]) & (pn_notes.note_length < 100000)]\n",
    "    print(pn_notes_cld.shape)\n",
    "else:\n",
    "    temp_table = icd_category\n",
    "    pn_notes_cla = pn_notes[(pn_notes.icd_category == temp_table[0]) & (pn_notes.note_length < 100000)]\n",
    "    print(pn_notes_cla.shape)\n",
    "    pn_notes_clb = pn_notes[(pn_notes.icd_category == temp_table[1]) & (pn_notes.note_length < 100000)]\n",
    "    print(pn_notes_clb.shape)\n",
    "    pn_notes_clc = pn_notes[(pn_notes.icd_category == temp_table[2]) & (pn_notes.note_length < 100000)]\n",
    "    print(pn_notes_clc.shape)\n",
    "    pn_notes_cld = pn_notes[(pn_notes.icd_category == temp_table[3]) & (pn_notes.note_length < 100000)]\n",
    "    print(pn_notes_cld.shape)\n",
    "\n",
    "\n",
    "class_train = pd.concat([pn_notes_cla, pn_notes_clb, pn_notes_clc, pn_notes_cld])\n",
    "print(class_train.shape)\n",
    "class_train.groupby(['icd_category'])\\\n",
    "                 .agg(min=('note_length', 'min'), median=('note_length','median'),\\\n",
    "                  max=('note_length','max') , count=('hadm_id','count'))"
   ]
  },
  {
   "cell_type": "code",
   "execution_count": 8,
   "id": "b7609b10",
   "metadata": {},
   "outputs": [],
   "source": [
    "# print(class_a.shape)\n",
    "# print(class_b.shape)\n",
    "# print(class_c.shape)\n",
    "# print(class_d.shape)\n"
   ]
  },
  {
   "cell_type": "code",
   "execution_count": 9,
   "id": "6590deb0",
   "metadata": {},
   "outputs": [],
   "source": [
    "# Opposed to other authors I did splitting first\n",
    "\n",
    "class_a_id = pn_notes_cla.hadm_id\n",
    "class_b_id = pn_notes_clb.hadm_id\n",
    "class_c_id = pn_notes_clc.hadm_id\n",
    "class_d_id = pn_notes_cld.hadm_id\n",
    "\n",
    "\n",
    "# class_a_id = pn_notesb[pn_notesb.primary_icd10_code.isin(icd10_class_def[0])].hadm_id\n",
    "# class_b_id = pn_notesb[pn_notesb.primary_icd10_code.isin(icd10_class_def[1])].hadm_id\n",
    "\n",
    "# split train/test/val\n",
    "# test\n",
    "class_a_test = class_a_id.sample(frac=0.20, random_state=1)\n",
    "class_b_test = class_b_id.sample(frac=0.20, random_state=1)\n",
    "class_c_test = class_c_id.sample(frac=0.20, random_state=1)\n",
    "class_d_test = class_d_id.sample(frac=0.20, random_state=1)\n",
    "\n",
    "# train\n",
    "class_a_train = class_a_id.drop(class_a_test.index)\n",
    "class_b_train = class_b_id.drop(class_b_test.index)\n",
    "class_c_train = class_c_id.drop(class_c_test.index)\n",
    "class_d_train = class_d_id.drop(class_d_test.index)\n",
    "\n",
    "# split test and val\n",
    "class_a_val = class_a_test.sample(frac=0.5, random_state=1)\n",
    "class_a_test = class_a_test.drop(class_a_val.index)\n",
    "class_b_val = class_b_test.sample(frac=0.5, random_state=1)\n",
    "class_b_test = class_b_test.drop(class_b_val.index)\n",
    "class_c_val = class_c_test.sample(frac=0.5, random_state=1)\n",
    "class_c_test = class_c_test.drop(class_c_val.index)\n",
    "class_d_val = class_d_test.sample(frac=0.5, random_state=1)\n",
    "class_d_test = class_d_test.drop(class_d_val.index)\n"
   ]
  },
  {
   "cell_type": "code",
   "execution_count": 10,
   "id": "b4605626",
   "metadata": {
    "scrolled": true
   },
   "outputs": [
    {
     "name": "stdout",
     "output_type": "stream",
     "text": [
      "(41,)\n",
      "(5,)\n",
      "(5,)\n",
      "(47,)\n",
      "(6,)\n",
      "(6,)\n",
      "(897,)\n",
      "(112,)\n",
      "(112,)\n",
      "(446,)\n",
      "(55,)\n",
      "(56,)\n"
     ]
    }
   ],
   "source": [
    "print(class_a_train.shape)\n",
    "print(class_a_test.shape)\n",
    "print(class_a_val.shape)\n",
    "print(class_b_train.shape)\n",
    "print(class_b_test.shape)\n",
    "print(class_b_val.shape)\n",
    "print(class_c_train.shape)\n",
    "print(class_c_test.shape)\n",
    "print(class_c_val.shape)\n",
    "print(class_d_train.shape)\n",
    "print(class_d_test.shape)\n",
    "print(class_d_val.shape)\n"
   ]
  },
  {
   "cell_type": "code",
   "execution_count": 11,
   "id": "4980e5fc",
   "metadata": {},
   "outputs": [],
   "source": [
    "# Rebalance\n",
    "\n",
    "class_a_train_rs = class_a_train.sample(n=75, replace=True, random_state=1)\n",
    "class_b_train_rs = class_b_train.sample(n=75, replace=True, random_state=1)\n",
    "class_c_train_rs = class_c_train.sample(n=75, replace=True, random_state=1)\n",
    "class_d_train_rs = class_d_train.sample(n=75, replace=True, random_state=1)\n",
    "\n",
    "class_a_sample_size = int(len(class_a_train_rs) * .15)\n",
    "class_b_sample_size = int(len(class_a_train_rs) * .13)\n",
    "class_c_sample_size = int(len(class_a_train_rs) * .15)\n",
    "class_d_sample_size = int(len(class_a_train_rs) * .15)\n",
    "\n",
    "\n",
    "class_a_test_rs = class_a_test.sample(n=class_a_sample_size, replace=True, random_state=1)\n",
    "class_b_test_rs = class_b_test.sample(n=class_b_sample_size, replace=True, random_state=1)\n",
    "class_c_test_rs = class_c_test.sample(n=class_c_sample_size, replace=True, random_state=1)\n",
    "class_d_test_rs = class_d_test.sample(n=class_d_sample_size, replace=True, random_state=1)\n",
    "\n",
    "\n",
    "class_a_val_rs = class_a_val.sample(n=class_a_sample_size, replace=True, random_state=1)\n",
    "class_b_val_rs = class_b_val.sample(n=class_b_sample_size, replace=True, random_state=1)\n",
    "class_c_val_rs = class_c_val.sample(n=class_c_sample_size, replace=True, random_state=1)\n",
    "class_d_val_rs = class_d_val.sample(n=class_d_sample_size, replace=True, random_state=1)\n",
    "\n"
   ]
  },
  {
   "cell_type": "code",
   "execution_count": 12,
   "id": "08583478",
   "metadata": {},
   "outputs": [
    {
     "data": {
      "text/plain": [
       "(446,)"
      ]
     },
     "execution_count": 12,
     "metadata": {},
     "output_type": "execute_result"
    }
   ],
   "source": [
    "class_a_train.shape\n",
    "class_b_train.shape\n",
    "class_c_train.shape\n",
    "class_d_train.shape\n",
    "# class_b_val_rs[1:5]"
   ]
  },
  {
   "cell_type": "code",
   "execution_count": 13,
   "id": "2c439c26",
   "metadata": {},
   "outputs": [
    {
     "name": "stdout",
     "output_type": "stream",
     "text": [
      "train\n",
      "size :  75\n",
      "size :  75\n",
      "size :  75\n",
      "size :  75\n",
      "test\n",
      "size :  11\n",
      "size :  9\n",
      "size :  11\n",
      "size :  11\n",
      "val\n",
      "size :  11\n",
      "size :  9\n",
      "size :  11\n",
      "size :  11\n"
     ]
    }
   ],
   "source": [
    "# check balancing\n",
    "df_list = [class_a_train_rs, class_b_train_rs, class_c_train_rs, class_d_train_rs]\n",
    "print('train')\n",
    "for x in df_list:\n",
    "    print('size : ', len(x))\n",
    "\n",
    "\n",
    "df_listb = [class_a_test_rs, class_b_test_rs, class_c_test_rs, class_d_test_rs]\n",
    "print('test')\n",
    "for x in df_listb:\n",
    "    print('size : ', len(x))\n",
    "\n",
    "df_listc = [class_a_val_rs, class_b_val_rs, class_c_val_rs, class_d_val_rs]\n",
    "print('val')\n",
    "for x in df_listc:\n",
    "    print('size : ', len(x))\n"
   ]
  },
  {
   "cell_type": "code",
   "execution_count": 14,
   "id": "f91f6e7f",
   "metadata": {},
   "outputs": [
    {
     "name": "stdout",
     "output_type": "stream",
     "text": [
      "train size:  300\n",
      "test size:  42\n",
      "val size:  42\n"
     ]
    },
    {
     "data": {
      "text/plain": [
       "array([], dtype=object)"
      ]
     },
     "execution_count": 14,
     "metadata": {},
     "output_type": "execute_result"
    }
   ],
   "source": [
    "# concatenate and test size and look for any overlap between test and train\n",
    "train_df_list = [class_a_train_rs, class_b_train_rs,class_c_train_rs, class_d_train_rs]\n",
    "id_train_df = pd.concat(train_df_list)\n",
    "\n",
    "test_df_list = [class_a_test_rs, class_b_test_rs, class_c_test_rs, class_d_test_rs]\n",
    "id_test_df = pd.concat(test_df_list)\n",
    "\n",
    "val_df_list = [class_a_val_rs, class_b_val_rs,class_c_val_rs, class_d_val_rs]\n",
    "id_val_df = pd.concat(val_df_list)\n",
    "\n",
    "print('train size: ', id_train_df.shape[0])\n",
    "print('test size: ', id_test_df.shape[0])\n",
    "print('val size: ', id_val_df.shape[0])\n",
    " \n",
    "# check between train and test\n",
    "(pd.Index(id_test_df).intersection(pd.Index(id_train_df))).values\n",
    "\n",
    "# print('between 25.0')\n",
    "# (pd.Index(k25_0_train).intersection(pd.Index(k25_0_test))).values\n",
    "\n",
    "# print('between 25.4')\n",
    "# (pd.Index(k25_4_train).intersection(pd.Index(k25_4_test))).values\n",
    "\n",
    "# print('between 29.90')\n",
    "# (pd.Index(k29_90_train).intersection(pd.Index(k29_90_test))).values\n",
    "\n",
    "# print('between 29.91')\n",
    "# (pd.Index(k29_91_train).intersection(pd.Index(k29_91_test))).values\n",
    "\n",
    "# print('between 51.00')\n",
    "# (pd.Index(k51_00_train).intersection(pd.Index(k51_00_test))).values\n",
    "\n",
    "# print('between 51.90')\n",
    "# (pd.Index(k51_90_train).intersection(pd.Index(k51_90_test))).values\n",
    "\n",
    "# print('between 52.9')\n",
    "# (pd.Index(k52_9_train).intersection(pd.Index(k52_9_test))).values\n",
    "\n",
    "# print('between 56.60')\n",
    "# (pd.Index(k56_60_train).intersection(pd.Index(k56_60_test))).values\n",
    "\n",
    "# print('between 56.69')\n",
    "# (pd.Index(k56_69_train).intersection(pd.Index(k56_69_test))).values\n",
    "\n",
    "# print('between 58.9')\n",
    "# (pd.Index(k58_9_train).intersection(pd.Index(k58_9_test))).values\n",
    "\n",
    "\n"
   ]
  },
  {
   "cell_type": "code",
   "execution_count": 15,
   "id": "f61f2f9d",
   "metadata": {
    "scrolled": true
   },
   "outputs": [
    {
     "name": "stdout",
     "output_type": "stream",
     "text": [
      "train Index(['hadm_id', 'subject_id', 'icd9_codes', 'primary_icd9_code',\n",
      "       'primary_icd10_code', 'stay_hours', 'admittime', 'dischtime',\n",
      "       'deathtime', 'admission_type', 'insurance', 'language', 'religion',\n",
      "       'marital_status', 'ethnicity', 'diagnosis', 'icd_category',\n",
      "       'ethnic_group', 'text', 'note_length', 'label'],\n",
      "      dtype='object')\n",
      "test Index(['hadm_id', 'subject_id', 'icd9_codes', 'primary_icd9_code',\n",
      "       'primary_icd10_code', 'stay_hours', 'admittime', 'dischtime',\n",
      "       'deathtime', 'admission_type', 'insurance', 'language', 'religion',\n",
      "       'marital_status', 'ethnicity', 'diagnosis', 'icd_category',\n",
      "       'ethnic_group', 'text', 'note_length', 'label', 'adm_id'],\n",
      "      dtype='object')\n",
      "val Index(['hadm_id', 'subject_id', 'icd9_codes', 'primary_icd9_code',\n",
      "       'primary_icd10_code', 'stay_hours', 'admittime', 'dischtime',\n",
      "       'deathtime', 'admission_type', 'insurance', 'language', 'religion',\n",
      "       'marital_status', 'ethnicity', 'diagnosis', 'icd_category',\n",
      "       'ethnic_group', 'text', 'note_length', 'label'],\n",
      "      dtype='object')\n"
     ]
    }
   ],
   "source": [
    "def create_label(code):\n",
    "    \n",
    "    temp_val = 0\n",
    "\n",
    "    if group_type == 'indiv':\n",
    "        item_table = icd_codes\n",
    "    else:\n",
    "        item_table = icd_category\n",
    "      \n",
    "    if code in item_table[0]:\n",
    "        temp_val = 0\n",
    "    elif code in item_table[1]:\n",
    "        temp_val = 1\n",
    "    elif code in item_table[2]:\n",
    "        temp_val = 2\n",
    "    elif code in item_table[3]:\n",
    "        temp_val = 3\n",
    "    else:\n",
    "        temp_val = 99\n",
    "        \n",
    "    \n",
    "    return(temp_val)\n",
    "\n",
    "\n",
    "id_train_df = pd.DataFrame(id_train_df)\n",
    "intsl_train = pd.merge(id_train_df, pn_notes, left_on=['hadm_id'], right_on=['hadm_id'], how='left')\n",
    "#intsl_train = intsl_train.rename(columns={'hadm_id_x': 'hadm_id'})\n",
    "#intsl_train = intsl_train.drop('hadm_id_y', axis = 1)\n",
    "if group_type == 'indiv':\n",
    "    intsl_train['label'] = intsl_train['primary_icd10_code'].map(create_label).astype('category')\n",
    "else:\n",
    "    intsl_train['label'] = intsl_train['icd_category'].map(create_label).astype('category')\n",
    "intsl_train['hadm_id'] = intsl_train['hadm_id'].astype('Int64')\n",
    "intsl_train['text'] = intsl_train['text'].astype('string')\n",
    "print('train', intsl_train.columns)\n",
    "\n",
    "id_test_df = pd.DataFrame(id_test_df)\n",
    "intsl_test = pd.merge(id_test_df, pn_notes, left_on=['hadm_id'], right_on=['hadm_id'], how='left')\n",
    "# intsl_test = intsl_test.rename(columns={'hadm_id_x': 'hadm_id'})\n",
    "# intsl_test = intsl_test.drop('hadm_id_y', axis = 1)\n",
    "if group_type == 'indiv':\n",
    "    intsl_test['label'] = intsl_test['primary_icd10_code'].map(create_label).astype('category')\n",
    "else:\n",
    "    intsl_test['label'] = intsl_test['icd_category'].map(create_label).astype('category')\n",
    "intsl_test['adm_id'] = intsl_test['hadm_id'].astype('Int64')\n",
    "intsl_test['text'] = intsl_test['text'].astype('string')\n",
    "\n",
    "print('test', intsl_test.columns)\n",
    "\n",
    "id_val_df = pd.DataFrame(id_val_df)\n",
    "intsl_val = pd.merge(id_val_df, pn_notes, left_on=['hadm_id'], right_on=['hadm_id'], how='left')\n",
    "if group_type == 'indiv':\n",
    "    intsl_val['label'] = intsl_val['primary_icd10_code'].map(create_label).astype('category')\n",
    "else:\n",
    "    intsl_val['label'] = intsl_val['icd_category'].map(create_label).astype('category')\n",
    "intsl_val['hadm_id'] = intsl_val['hadm_id'].astype('Int64')\n",
    "intsl_val['text'] = intsl_val['text'].astype('string')\n",
    "intsl_val['label'] = intsl_val['label'].astype('category')\n",
    "print('val', intsl_val.columns)\n",
    "\n",
    "# early_test.to_csv('./data/3days/test.csv')"
   ]
  },
  {
   "cell_type": "code",
   "execution_count": 16,
   "id": "49a9461a",
   "metadata": {},
   "outputs": [
    {
     "data": {
      "text/plain": [
       "icd_category  label\n",
       "Colitis       0        75\n",
       "              1         0\n",
       "              2         0\n",
       "              3         0\n",
       "Gastritis     0         0\n",
       "              1        75\n",
       "              2         0\n",
       "              3         0\n",
       "Heart         0         0\n",
       "              1         0\n",
       "              2         0\n",
       "              3        75\n",
       "Reflux        0         0\n",
       "              1         0\n",
       "              2        75\n",
       "              3         0\n",
       "Name: hadm_id, dtype: int64"
      ]
     },
     "execution_count": 16,
     "metadata": {},
     "output_type": "execute_result"
    }
   ],
   "source": [
    "# if roland == 7\n",
    "#   print(7)\n",
    "# intsl_train.columns\n",
    "intsl_train.groupby(['icd_category', 'label'])['hadm_id'].count()"
   ]
  },
  {
   "cell_type": "code",
   "execution_count": 17,
   "id": "01196b1e",
   "metadata": {},
   "outputs": [
    {
     "data": {
      "text/plain": [
       "primary_icd10_code  label\n",
       "I27.89              0         0\n",
       "                    1         0\n",
       "                    2         0\n",
       "                    3        75\n",
       "K21.9               0         0\n",
       "                    1         0\n",
       "                    2        75\n",
       "                    3         0\n",
       "K29.90              0         0\n",
       "                    1        75\n",
       "                    2         0\n",
       "                    3         0\n",
       "K51.90              0        75\n",
       "                    1         0\n",
       "                    2         0\n",
       "                    3         0\n",
       "Name: hadm_id, dtype: int64"
      ]
     },
     "execution_count": 17,
     "metadata": {},
     "output_type": "execute_result"
    }
   ],
   "source": [
    "pd.set_option('display.max_rows', 500)\n",
    "intsl_train.groupby(['primary_icd10_code','label'])['hadm_id'].count()"
   ]
  },
  {
   "cell_type": "code",
   "execution_count": 18,
   "id": "0db660ea",
   "metadata": {},
   "outputs": [
    {
     "name": "stdout",
     "output_type": "stream",
     "text": [
      "       id                                               text icd10_code label\n",
      "1  116655  micu nursing progress note. - please see carev...     K51.90     0\n",
      "2  180273  tsicu nursing progress note neuro: pt a&o x pt...     K51.90     0\n",
      "3  192855  respiratory care: pt. intubated secondary to w...     K51.90     0\n",
      "4  178857  ccu nursing progress note pls see fhpa for det...     K51.90     0\n",
      "       id                                               text icd10_code label\n",
      "1  109151  chief complaint: diarrhea, rigors hpi: ms. is ...     K51.90     0\n",
      "2  108130  update see careview for details... pt arrived ...     K51.90     0\n",
      "3  135131  resp care note - intubated pt. transffered fro...     K51.90     0\n",
      "4  149608  pt adm to cvicu a @ from ed. pt is s/p days po...     K51.90     0\n",
      "       id                                               text icd10_code label\n",
      "1  127608  micu nursing progress note - y/o female admitt...     K51.90     0\n",
      "2  140486  chief complaint: lgib i saw and examined the p...     K51.90     0\n",
      "3  125403  admit note pt is a yo s/p cabg x on . recovere...     K51.90     0\n",
      "4  105082  nsg admit note pt to sicu from ew. this yo mal...     K51.90     0\n"
     ]
    }
   ],
   "source": [
    "intsl_train = intsl_train[['hadm_id', 'text', 'primary_icd10_code', 'label']]\\\n",
    "                     .rename(columns={'hadm_id':'id', 'primary_icd10_code':'icd10_code'})\n",
    "intsl_test = intsl_test[['hadm_id', 'text', 'primary_icd10_code', 'label']]\\\n",
    "                     .rename(columns={'hadm_id':'id', 'primary_icd10_code':'icd10_code'})\n",
    "intsl_val = intsl_val[['hadm_id', 'text', 'primary_icd10_code', 'label']]\\\n",
    "                     .rename(columns={'hadm_id':'id', 'primary_icd10_code':'icd10_code'})\n",
    "print(intsl_train[1:5])\n",
    "print(intsl_test[1:5])\n",
    "print(intsl_val[1:5])"
   ]
  },
  {
   "cell_type": "code",
   "execution_count": 19,
   "id": "b7192904",
   "metadata": {
    "scrolled": true
   },
   "outputs": [
    {
     "name": "stdout",
     "output_type": "stream",
     "text": [
      "label\n",
      "0    75\n",
      "1    75\n",
      "2    75\n",
      "3    75\n",
      "Name: id, dtype: int64\n",
      "label\n",
      "0    11\n",
      "1     9\n",
      "2    11\n",
      "3    11\n",
      "Name: id, dtype: int64\n",
      "label\n",
      "0    11\n",
      "1     9\n",
      "2    11\n",
      "3    11\n",
      "Name: id, dtype: int64\n"
     ]
    }
   ],
   "source": [
    "print(intsl_train.groupby('label')['id'].count())\n",
    "print(intsl_test.groupby('label')['id'].count())\n",
    "print(intsl_val.groupby('label')['id'].count())"
   ]
  },
  {
   "cell_type": "code",
   "execution_count": 20,
   "id": "12892389",
   "metadata": {},
   "outputs": [
    {
     "name": "stdout",
     "output_type": "stream",
     "text": [
      "id               Int64\n",
      "text            string\n",
      "icd10_code      string\n",
      "label         category\n",
      "dtype: object\n"
     ]
    },
    {
     "data": {
      "text/html": [
       "<div>\n",
       "<style scoped>\n",
       "    .dataframe tbody tr th:only-of-type {\n",
       "        vertical-align: middle;\n",
       "    }\n",
       "\n",
       "    .dataframe tbody tr th {\n",
       "        vertical-align: top;\n",
       "    }\n",
       "\n",
       "    .dataframe thead th {\n",
       "        text-align: right;\n",
       "    }\n",
       "</style>\n",
       "<table border=\"1\" class=\"dataframe\">\n",
       "  <thead>\n",
       "    <tr style=\"text-align: right;\">\n",
       "      <th></th>\n",
       "      <th>id</th>\n",
       "      <th>text</th>\n",
       "      <th>icd10_code</th>\n",
       "      <th>label</th>\n",
       "    </tr>\n",
       "  </thead>\n",
       "  <tbody>\n",
       "    <tr>\n",
       "      <th>1</th>\n",
       "      <td>116655</td>\n",
       "      <td>micu nursing progress note. - please see carev...</td>\n",
       "      <td>K51.90</td>\n",
       "      <td>0</td>\n",
       "    </tr>\n",
       "    <tr>\n",
       "      <th>2</th>\n",
       "      <td>180273</td>\n",
       "      <td>tsicu nursing progress note neuro: pt a&amp;o x pt...</td>\n",
       "      <td>K51.90</td>\n",
       "      <td>0</td>\n",
       "    </tr>\n",
       "    <tr>\n",
       "      <th>3</th>\n",
       "      <td>192855</td>\n",
       "      <td>respiratory care: pt. intubated secondary to w...</td>\n",
       "      <td>K51.90</td>\n",
       "      <td>0</td>\n",
       "    </tr>\n",
       "    <tr>\n",
       "      <th>4</th>\n",
       "      <td>178857</td>\n",
       "      <td>ccu nursing progress note pls see fhpa for det...</td>\n",
       "      <td>K51.90</td>\n",
       "      <td>0</td>\n",
       "    </tr>\n",
       "  </tbody>\n",
       "</table>\n",
       "</div>"
      ],
      "text/plain": [
       "       id                                               text icd10_code label\n",
       "1  116655  micu nursing progress note. - please see carev...     K51.90     0\n",
       "2  180273  tsicu nursing progress note neuro: pt a&o x pt...     K51.90     0\n",
       "3  192855  respiratory care: pt. intubated secondary to w...     K51.90     0\n",
       "4  178857  ccu nursing progress note pls see fhpa for det...     K51.90     0"
      ]
     },
     "execution_count": 20,
     "metadata": {},
     "output_type": "execute_result"
    }
   ],
   "source": [
    "print(intsl_train.dtypes)\n",
    "intsl_train[1:5]"
   ]
  },
  {
   "cell_type": "code",
   "execution_count": 21,
   "id": "e47462fc",
   "metadata": {
    "scrolled": false
   },
   "outputs": [
    {
     "data": {
      "image/png": "[encoded data removed]",
      "text/plain": [
       "<Figure size 640x480 with 1 Axes>"
      ]
     },
     "metadata": {},
     "output_type": "display_data"
    },
    {
     "data": {
      "image/png": "[encoded data removed]",
      "text/plain": [
       "<Figure size 640x480 with 1 Axes>"
      ]
     },
     "metadata": {},
     "output_type": "display_data"
    }
   ],
   "source": [
    "new_df = intsl_train.copy()\n",
    "new_df['Words_per_Note'] = new_df[\"text\"].str.split().apply(len)\n",
    "new_df['note_length'] = new_df[\"text\"].apply(len)\n",
    "# print(intsl_train.columns)\n",
    "new_df.boxplot('Words_per_Note', by='label', grid=False, showfliers=False, color='black')\n",
    "plt.suptitle('')\n",
    "plt.xlabel(\"\")\n",
    "plt.show()\n",
    "new_df.boxplot('note_length', by='label', grid=False, showfliers=False, color='black')\n",
    "plt.suptitle('')\n",
    "plt.xlabel(\"\")\n",
    "plt.show()\n",
    "\n"
   ]
  },
  {
   "cell_type": "code",
   "execution_count": 22,
   "id": "ff594bb2",
   "metadata": {},
   "outputs": [
    {
     "data": {
      "text/plain": [
       "'  This is extra as an example of pansql\\n\\nimport pandasql as ps\\n\\n#qintsl = intsl_notes[[\\'subject_id\\', \\'hadm_id\\']]\\n# print(qintsl.dtypes)\\na1 = \"SELECT avg(text_length) FROM \\\\ \\n        (select len(text) as text_len from id_train_df) as a \"\\n        \\n\\nl1 = ps.sqldf(a1, locals())\\nprint(l1) '"
      ]
     },
     "execution_count": 22,
     "metadata": {},
     "output_type": "execute_result"
    }
   ],
   "source": [
    "\"\"\"  This is extra as an example of pansql\n",
    "\n",
    "import pandasql as ps\n",
    "\n",
    "#qintsl = intsl_notes[['subject_id', 'hadm_id']]\n",
    "# print(qintsl.dtypes)\n",
    "a1 = \"SELECT avg(text_length) FROM \\ \n",
    "        (select len(text) as text_len from id_train_df) as a \"\n",
    "        \n",
    "\n",
    "l1 = ps.sqldf(a1, locals())\n",
    "print(l1) \"\"\""
   ]
  },
  {
   "cell_type": "code",
   "execution_count": 23,
   "id": "68bc36be",
   "metadata": {
    "scrolled": true
   },
   "outputs": [
    {
     "data": {
      "text/plain": [
       "label\n",
       "0    75\n",
       "1    75\n",
       "2    75\n",
       "3    75\n",
       "Name: id, dtype: int64"
      ]
     },
     "execution_count": 23,
     "metadata": {},
     "output_type": "execute_result"
    }
   ],
   "source": [
    "intsl_train[['id','text', 'icd10_code','label']].groupby(['label'])['id'].count()\n"
   ]
  },
  {
   "cell_type": "markdown",
   "id": "0ad6336e",
   "metadata": {
    "scrolled": false
   },
   "source": [
    "<div class=\"alert alert-block alert-success\"><font color=\"black\"><h1><left>Write File with Admission Details and Attached Combined Notes</left></h1></font></div>"
   ]
  },
  {
   "cell_type": "code",
   "execution_count": 24,
   "id": "7c16fb3a",
   "metadata": {},
   "outputs": [],
   "source": [
    "path = 'E://Education//DataScience/CCSU-Data-Science/Data-Mining-And-Predictive-Analytics/Data-532/Data/'\n",
    "fname = 'intsl_train_indiv_no2.snappy.parquet'\n",
    "f2name = 'intsl_test_indiv_no2.snappy.parquet'\n",
    "f3name = 'intsl_val_indiv_no2.snappy.parquet'\n",
    "\n",
    "intsl_train.to_parquet(path + fname,compression='snappy',index=None)  \n",
    "intsl_test.to_parquet(path + f2name,compression='snappy',index=None)  \n",
    "intsl_val.to_parquet(path + f3name,compression='snappy',index=None)  \n"
   ]
  },
  {
   "cell_type": "code",
   "execution_count": 25,
   "id": "5b8adbc3",
   "metadata": {},
   "outputs": [],
   "source": [
    "import boto3, os\n",
    "s3 = boto3.resource('s3')\n",
    "S3_path = 'MIMIC/Data/' + fname\n",
    "S3_path2 = 'MIMIC/Data/' + f2name\n",
    "S3_path3 = 'MIMIC/Data/' + f3name\n",
    "out_file = path + fname\n",
    "out_file2 = path + f2name\n",
    "out_file3 = path + f3name"
   ]
  },
  {
   "cell_type": "code",
   "execution_count": 26,
   "id": "558efe4b",
   "metadata": {
    "scrolled": true
   },
   "outputs": [],
   "source": [
    "s3.meta.client.upload_file(out_file, 'depratti-masters-thesis', S3_path)\n",
    "s3.meta.client.upload_file(out_file2, 'depratti-masters-thesis', S3_path2)\n",
    "s3.meta.client.upload_file(out_file3, 'depratti-masters-thesis', S3_path3)"
   ]
  },
  {
   "cell_type": "code",
   "execution_count": 27,
   "id": "287b5176",
   "metadata": {},
   "outputs": [
    {
     "name": "stdout",
     "output_type": "stream",
     "text": [
      "(300, 4)\n",
      "(42, 4)\n",
      "(42, 4)\n",
      "Index(['id', 'text', 'icd10_code', 'label'], dtype='object')\n"
     ]
    }
   ],
   "source": [
    "print(intsl_train.shape)\n",
    "print(intsl_test.shape)\n",
    "print(intsl_val.shape)\n",
    "print(intsl_val.columns)"
   ]
  },
  {
   "cell_type": "code",
   "execution_count": 28,
   "id": "44ee9c90",
   "metadata": {},
   "outputs": [
    {
     "data": {
      "text/plain": [
       "icd10_code  label\n",
       "I27.89      0         0\n",
       "            1         0\n",
       "            2         0\n",
       "            3        75\n",
       "K21.9       0         0\n",
       "            1         0\n",
       "            2        75\n",
       "            3         0\n",
       "K29.90      0         0\n",
       "            1        75\n",
       "            2         0\n",
       "            3         0\n",
       "K51.90      0        75\n",
       "            1         0\n",
       "            2         0\n",
       "            3         0\n",
       "Name: id, dtype: int64"
      ]
     },
     "execution_count": 28,
     "metadata": {},
     "output_type": "execute_result"
    }
   ],
   "source": [
    "intsl_train.groupby(['icd10_code', 'label'])['id'].count()"
   ]
  },
  {
   "cell_type": "code",
   "execution_count": null,
   "id": "e748e07b",
   "metadata": {},
   "outputs": [],
   "source": []
  }
 ],
 "metadata": {
  "kernelspec": {
   "display_name": "Python [conda env:research]",
   "language": "python",
   "name": "conda-env-research-py"
  },
  "language_info": {
   "codemirror_mode": {
    "name": "ipython",
    "version": 3
   },
   "file_extension": ".py",
   "mimetype": "text/x-python",
   "name": "python",
   "nbconvert_exporter": "python",
   "pygments_lexer": "ipython3",
   "version": "3.9.15"
  }
 },
 "nbformat": 4,
 "nbformat_minor": 5
}
